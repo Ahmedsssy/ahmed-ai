{
  "nbformat": 4,
  "nbformat_minor": 0,
  "metadata": {
    "colab": {
      "provenance": [],
      "mount_file_id": "102wgaIDBWq1Z0CbJUHK7M8KMYaGcf6yt",
      "authorship_tag": "ABX9TyN91TpeeVNYLKr72cEOwo9X",
      "include_colab_link": true
    },
    "kernelspec": {
      "name": "python3",
      "display_name": "Python 3"
    },
    "language_info": {
      "name": "python"
    }
  },
  "cells": [
    {
      "cell_type": "markdown",
      "metadata": {
        "id": "view-in-github",
        "colab_type": "text"
      },
      "source": [
        "<a href=\"https://colab.research.google.com/github/Ahmedsssy/ahmed-ai/blob/main/Untitled1.ipynb\" target=\"_parent\"><img src=\"https://colab.research.google.com/assets/colab-badge.svg\" alt=\"Open In Colab\"/></a>"
      ]
    },
    {
      "cell_type": "code",
      "execution_count": null,
      "metadata": {
        "id": "UclSEpMbAT5k"
      },
      "outputs": [],
      "source": [
        "g1=14\n",
        "g2=15\n",
        "g3=19\n",
        "g5=11\n",
        "\n",
        "grades=[15,16,17,18,19]\n",
        "print=(grades)"
      ]
    },
    {
      "cell_type": "code",
      "source": [
        "grades"
      ],
      "metadata": {
        "colab": {
          "base_uri": "https://localhost:8080/"
        },
        "id": "FHgJ5NAdAk75",
        "outputId": "cb54b388-e829-4ecd-f5c8-3c0070f3866d"
      },
      "execution_count": null,
      "outputs": [
        {
          "output_type": "execute_result",
          "data": {
            "text/plain": [
              "[15, 16, 17, 18, 19]"
            ]
          },
          "metadata": {},
          "execution_count": 3
        }
      ]
    },
    {
      "cell_type": "code",
      "source": [
        "type(grades)"
      ],
      "metadata": {
        "colab": {
          "base_uri": "https://localhost:8080/"
        },
        "id": "ZyIM5f0MAsEK",
        "outputId": "5265d3ba-9fec-43c7-94b8-20f46474b1da"
      },
      "execution_count": null,
      "outputs": [
        {
          "output_type": "execute_result",
          "data": {
            "text/plain": [
              "list"
            ]
          },
          "metadata": {},
          "execution_count": 4
        }
      ]
    },
    {
      "cell_type": "code",
      "source": [
        "grades[1:2]"
      ],
      "metadata": {
        "colab": {
          "base_uri": "https://localhost:8080/"
        },
        "id": "AZHgaa0gA_0H",
        "outputId": "21c02ac0-2eab-4dbf-9fd1-80128c348f47"
      },
      "execution_count": null,
      "outputs": [
        {
          "output_type": "execute_result",
          "data": {
            "text/plain": [
              "[16]"
            ]
          },
          "metadata": {},
          "execution_count": 6
        }
      ]
    },
    {
      "cell_type": "code",
      "source": [
        "n=list(range(1000000000000))\n",
        "print(n)"
      ],
      "metadata": {
        "id": "m7clq6tPBWiO"
      },
      "execution_count": null,
      "outputs": []
    },
    {
      "cell_type": "code",
      "source": [
        "N= [1,2,5,5,8,8,9,4,2]\n",
        "0 in N"
      ],
      "metadata": {
        "colab": {
          "base_uri": "https://localhost:8080/"
        },
        "id": "Q-5VzE0YS9RD",
        "outputId": "79c761e2-7092-4e4c-cf79-c5d86f4f99c0"
      },
      "execution_count": 3,
      "outputs": [
        {
          "output_type": "execute_result",
          "data": {
            "text/plain": [
              "False"
            ]
          },
          "metadata": {},
          "execution_count": 3
        }
      ]
    },
    {
      "cell_type": "code",
      "source": [
        "num1 = 3\n",
        "num2 = 4\n",
        "num3 = 5\n",
        "\n",
        "print(\"Problem 1 (integers):\")\n",
        "print(\"a)\",\n",
        "      num1 + num2)\n",
        "print(\"b)\",\n",
        "      num3 - num1)\n",
        "print(\"c)\",\n",
        "      num1 * num2 + num3)\n",
        "print(\"d)\",\n",
        "      num1 * (num2 + num3))\n",
        "print(\"e)\",\n",
        "      num3 / num1)\n",
        "print(\"f)\",\n",
        "      num3 // num1)\n",
        "print(\"g)\",\n",
        "      num3 % num1)\n",
        "\n",
        "\n",
        "num1 = 3.0\n",
        "num2 = 4.0\n",
        "num3 = 5.0\n",
        "\n",
        "print(\"\\nProblem 1 (floats):\")\n",
        "print(\"a)\", num1 + num2)\n",
        "print(\"b)\", num3 - num1)\n",
        "print(\"c)\", num1 * num2 + num3)\n",
        "print(\"d)\", num1 * (num2 + num3))\n",
        "print(\"e)\", num3 / num1)\n",
        "print(\"f)\", num3 // num1)\n",
        "print(\"g)\", num3 % num1)\n",
        "\n"
      ],
      "metadata": {
        "colab": {
          "base_uri": "https://localhost:8080/"
        },
        "id": "tYj7qUemm-Ss",
        "outputId": "ca00c7d7-1e31-4f3e-e5cb-0b3bdf88aad8"
      },
      "execution_count": 1,
      "outputs": [
        {
          "output_type": "stream",
          "name": "stdout",
          "text": [
            "Problem 1 (integers):\n",
            "a) 7\n",
            "b) 2\n",
            "c) 17\n",
            "d) 27\n",
            "e) 1.6666666666666667\n",
            "f) 1\n",
            "g) 2\n",
            "\n",
            "Problem 1 (floats):\n",
            "a) 7.0\n",
            "b) 2.0\n",
            "c) 17.0\n",
            "d) 27.0\n",
            "e) 1.6666666666666667\n",
            "f) 1.0\n",
            "g) 2.0\n"
          ]
        }
      ]
    },
    {
      "cell_type": "code",
      "source": [
        "x = 1\n",
        "y = 2\n",
        "z = 3\n",
        "g = 4\n",
        "\n",
        "print(\"\\nProblem 2:\")\n",
        "print(\"a)\", x + y * z / g)  # 2.5\n",
        "print(\"b)\", y ** z)"
      ],
      "metadata": {
        "colab": {
          "base_uri": "https://localhost:8080/"
        },
        "id": "QOwB9UQFnl8g",
        "outputId": "11486a5c-de3c-41ab-828a-6dc858bad978"
      },
      "execution_count": 2,
      "outputs": [
        {
          "output_type": "stream",
          "name": "stdout",
          "text": [
            "\n",
            "Problem 2:\n",
            "a) 2.5\n",
            "b) 8\n"
          ]
        }
      ]
    },
    {
      "cell_type": "code",
      "source": [
        "# Given values\n",
        "str_a = \"Python\"\n",
        "str_b = \"is a\"\n",
        "str_c = \"times fun language\"\n",
        "num = 1000\n",
        "\n",
        "\n",
        "str_ab = str_a + str_b + str(num) + str_c\n",
        "print(\"str_ab (direct):\", str_ab)\n",
        "\n",
        "\n",
        "\n",
        "str_ab_nice = str_a + \" \" + str_b + \" \" + str(num) + \" \" + str_c\n",
        "print(\"str_ab (nicely spaced):\", str_ab_nice)\n",
        "\n",
        "\n",
        "str_a10 = str_a * 10\n",
        "print(\"str_a10:\", str_a10)\n",
        "\n"
      ],
      "metadata": {
        "colab": {
          "base_uri": "https://localhost:8080/"
        },
        "id": "Uu1ZfDhOpaTT",
        "outputId": "5139f058-6e99-4c11-9e06-c17b09d2dcd8"
      },
      "execution_count": 3,
      "outputs": [
        {
          "output_type": "stream",
          "name": "stdout",
          "text": [
            "str_ab (direct): Pythonis a1000times fun language\n",
            "str_ab (nicely spaced): Python is a 1000 times fun language\n",
            "str_a10: PythonPythonPythonPythonPythonPythonPythonPythonPythonPython\n"
          ]
        }
      ]
    },
    {
      "cell_type": "code",
      "source": [
        "# Odd or Even\n",
        "num = int(input(\"Enter a number: \"))\n",
        "if num % 2 == 0:\n",
        "    print(\"Even\")\n",
        "else:\n",
        "    print(\"Odd\")\n",
        "\n",
        "# Pass or Fail\n",
        "score = int(input(\"Enter student's score (0-100): \"))\n",
        "if score >= 50:\n",
        "    print(\"Pass\")\n",
        "else:\n",
        "    print(\"Fail\")\n",
        "\n",
        "# Largest of 3 numbers\n",
        "a = float(input(\"Enter first number: \"))\n",
        "b = float(input(\"Enter second number: \"))\n",
        "c = float(input(\"Enter third number: \"))\n",
        "print(\"Largest number is:\", max(a, b, c))\n",
        "\n",
        "# Counting with for\n",
        "print(\"Counting from 1 to 10:\")\n",
        "for i in range(1, 11):\n",
        "    print(i)\n",
        "\n",
        "# Grade Calculator\n",
        "grade_score = int(input(\"Enter score for grading: \"))\n",
        "if 90 <= grade_score <= 100:\n",
        "    print(\"Grade: A\")\n",
        "elif 80 <= grade_score <= 89:\n",
        "    print(\"Grade: B\")\n",
        "elif 70 <= grade_score <= 79:\n",
        "    print(\"Grade: C\")\n",
        "elif 60 <= grade_score <= 69:\n",
        "    print(\"Grade: D\")\n",
        "else:\n",
        "    print(\"Grade: F\")\n",
        "\n",
        "# Multiplication Table\n",
        "table_num = int(input(\"Enter a number for multiplication table: \"))\n",
        "for i in range(1, 11):\n",
        "    print(f\"{table_num} x {i} = {table_num * i}\")\n",
        "\n",
        "# Sum of Even Numbers (1 to 50)\n",
        "even_sum = 0\n",
        "for i in range(1, 51):\n",
        "    if i % 2 == 0:\n",
        "        even_sum += i\n",
        "print(\"Sum of even numbers from 1 to 50 is:\", even_sum)\n",
        "\n",
        "# Factorial with while loop\n",
        "fact_num = int(input(\"Enter a number for factorial: \"))\n",
        "fact = 1\n",
        "count = 1\n",
        "while count <= fact_num:\n",
        "    fact *= count\n",
        "    count += 1\n",
        "print(f\"Factorial of {fact_num} is: {fact}\")\n"
      ],
      "metadata": {
        "colab": {
          "base_uri": "https://localhost:8080/"
        },
        "id": "DiJnpM4IrCZh",
        "outputId": "208dd513-2d57-44ef-f5bd-801705315511"
      },
      "execution_count": 23,
      "outputs": [
        {
          "output_type": "stream",
          "name": "stdout",
          "text": [
            "Enter a number: 12\n",
            "Even\n",
            "Enter student's score (0-100): 100\n",
            "Pass\n",
            "Enter first number: 54\n",
            "Enter second number: 45\n",
            "Enter third number: 13\n",
            "Largest number is: 54.0\n",
            "Counting from 1 to 10:\n",
            "1\n",
            "2\n",
            "3\n",
            "4\n",
            "5\n",
            "6\n",
            "7\n",
            "8\n",
            "9\n",
            "10\n",
            "Enter score for grading: 5\n",
            "Grade: F\n",
            "Enter a number for multiplication table: 12\n",
            "12 x 1 = 12\n",
            "12 x 2 = 24\n",
            "12 x 3 = 36\n",
            "12 x 4 = 48\n",
            "12 x 5 = 60\n",
            "12 x 6 = 72\n",
            "12 x 7 = 84\n",
            "12 x 8 = 96\n",
            "12 x 9 = 108\n",
            "12 x 10 = 120\n",
            "Sum of even numbers from 1 to 50 is: 650\n",
            "Enter a number for factorial: 23\n",
            "Factorial of 23 is: 25852016738884976640000\n"
          ]
        }
      ]
    },
    {
      "cell_type": "code",
      "source": [
        "def odd_or_even():\n",
        "    num = int(input(\"Enter a number: \"))\n",
        "    if num % 2 == 0:\n",
        "        print(\"Even\")\n",
        "    else:\n",
        "        print(\"Odd\")\n"
      ],
      "metadata": {
        "id": "mhGbqfwZrh4h"
      },
      "execution_count": 22,
      "outputs": []
    },
    {
      "cell_type": "code",
      "source": [
        "def pass_or_fail():\n",
        "    score = int(input(\"Enter student's score (0-100): \"))\n",
        "    if score >= 50:\n",
        "        print(\"Pass\")\n",
        "    else:\n",
        "        print(\"Fail\")"
      ],
      "metadata": {
        "id": "9OO9wNsRrmx2"
      },
      "execution_count": 21,
      "outputs": []
    },
    {
      "cell_type": "code",
      "source": [
        "def largest_of_three():\n",
        "    a = float(input(\"Enter first number: \"))\n",
        "    b = float(input(\"Enter second number: \"))\n",
        "    c = float(input(\"Enter third number: \"))\n",
        "    print(\"Largest number is:\", max(a, b, c))\n",
        "\n"
      ],
      "metadata": {
        "id": "DnojNc16rqX9"
      },
      "execution_count": null,
      "outputs": []
    },
    {
      "cell_type": "code",
      "source": [
        "def counting_with_for():\n",
        "    print(\"Counting from 1 to 10:\")\n",
        "    for i in range(1, 11):\n",
        "        print(i)"
      ],
      "metadata": {
        "id": "aOrcWDduruDI"
      },
      "execution_count": null,
      "outputs": []
    },
    {
      "cell_type": "code",
      "source": [
        "def grade_calculator():\n",
        "    grade_score = int(input(\"Enter score for grading: \"))\n",
        "    if 90 <= grade_score <= 100:\n",
        "        print(\"Grade: A\")\n",
        "    elif 80 <= grade_score <= 89:\n",
        "        print(\"Grade: B\")\n",
        "    elif 70 <= grade_score <= 79:\n",
        "        print(\"Grade: C\")\n",
        "    elif 60 <= grade_score <= 69:\n",
        "        print(\"Grade: D\")\n",
        "    else:\n",
        "        print(\"Grade: F\")"
      ],
      "metadata": {
        "id": "67LtZYZwrxFO"
      },
      "execution_count": null,
      "outputs": []
    },
    {
      "cell_type": "code",
      "source": [
        "def multiplication_table():\n",
        "    table_num = int(input(\"Enter a number for multiplication table: \"))\n",
        "    for i in range(1, 11):\n",
        "        print(f\"{table_num} x {i} = {table_num * i}\")\n",
        "\n"
      ],
      "metadata": {
        "id": "-vHVaAHdr1iT"
      },
      "execution_count": null,
      "outputs": []
    },
    {
      "cell_type": "code",
      "source": [
        "def sum_of_even_numbers():\n",
        "    even_sum = sum(i for i in range(1, 51) if i % 2 == 0)\n",
        "    print(\"Sum of even numbers from 1 to 50 is:\", even_sum)\n"
      ],
      "metadata": {
        "id": "WdAoK2AMr4vw"
      },
      "execution_count": 12,
      "outputs": []
    },
    {
      "cell_type": "code",
      "source": [
        "def factorial_with_while():\n",
        "    fact_num = int(input(\"Enter a number for factorial: \"))\n",
        "    fact = 1\n",
        "    count = 1\n",
        "    while count <= fact_num:\n",
        "        fact *= count\n",
        "        count += 1\n",
        "    print(f\"Factorial of {fact_num} is: {fact}\")"
      ],
      "metadata": {
        "id": "KbjSsgxor7hI"
      },
      "execution_count": 25,
      "outputs": []
    }
  ]
}