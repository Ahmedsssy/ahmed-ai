{
  "cells": [
    {
      "cell_type": "markdown",
      "metadata": {
        "id": "view-in-github",
        "colab_type": "text"
      },
      "source": [
        "<a href=\"https://colab.research.google.com/github/Ahmedsssy/ahmed-ai/blob/main/Python_Numpy_Exercises_with_hints.ipynb\" target=\"_parent\"><img src=\"https://colab.research.google.com/assets/colab-badge.svg\" alt=\"Open In Colab\"/></a>"
      ]
    },
    {
      "cell_type": "markdown",
      "id": "bf79c78b",
      "metadata": {
        "id": "bf79c78b"
      },
      "source": [
        "# Python NumPy Exercises\n",
        "\n",
        "This is a collection of exercises that have been collected in the numpy mailing list, on stack overflow\n",
        "and in the numpy documentation. The goal of this collection is to offer a quick reference for both old\n",
        "and new users but also to provide a set of exercises for those who teach."
      ]
    },
    {
      "cell_type": "markdown",
      "id": "017db353",
      "metadata": {
        "id": "017db353"
      },
      "source": [
        "#### 1. Import the numpy package under the name `np` and print the numpy version and the configuration (★☆☆)\n",
        "\n",
        "`Hint: import … as` and `np.__version__, np.show_config)`"
      ]
    },
    {
      "cell_type": "code",
      "execution_count": 2,
      "id": "e28779fe",
      "metadata": {
        "colab": {
          "base_uri": "https://localhost:8080/"
        },
        "id": "e28779fe",
        "outputId": "f449f7e4-af65-4bb6-be47-773127332729"
      },
      "outputs": [
        {
          "output_type": "stream",
          "name": "stdout",
          "text": [
            "NumPy Version: 2.0.2\n",
            "Build Dependencies:\n",
            "  blas:\n",
            "    detection method: pkgconfig\n",
            "    found: true\n",
            "    include directory: /opt/_internal/cpython-3.11.8/lib/python3.11/site-packages/scipy_openblas64/include\n",
            "    lib directory: /opt/_internal/cpython-3.11.8/lib/python3.11/site-packages/scipy_openblas64/lib\n",
            "    name: scipy-openblas\n",
            "    openblas configuration: OpenBLAS 0.3.27  USE64BITINT DYNAMIC_ARCH NO_AFFINITY\n",
            "      Zen MAX_THREADS=64\n",
            "    pc file directory: /project/.openblas\n",
            "    version: 0.3.27\n",
            "  lapack:\n",
            "    detection method: pkgconfig\n",
            "    found: true\n",
            "    include directory: /opt/_internal/cpython-3.11.8/lib/python3.11/site-packages/scipy_openblas64/include\n",
            "    lib directory: /opt/_internal/cpython-3.11.8/lib/python3.11/site-packages/scipy_openblas64/lib\n",
            "    name: scipy-openblas\n",
            "    openblas configuration: OpenBLAS 0.3.27  USE64BITINT DYNAMIC_ARCH NO_AFFINITY\n",
            "      Zen MAX_THREADS=64\n",
            "    pc file directory: /project/.openblas\n",
            "    version: 0.3.27\n",
            "Compilers:\n",
            "  c:\n",
            "    commands: cc\n",
            "    linker: ld.bfd\n",
            "    name: gcc\n",
            "    version: 10.2.1\n",
            "  c++:\n",
            "    commands: c++\n",
            "    linker: ld.bfd\n",
            "    name: gcc\n",
            "    version: 10.2.1\n",
            "  cython:\n",
            "    commands: cython\n",
            "    linker: cython\n",
            "    name: cython\n",
            "    version: 3.0.11\n",
            "Machine Information:\n",
            "  build:\n",
            "    cpu: x86_64\n",
            "    endian: little\n",
            "    family: x86_64\n",
            "    system: linux\n",
            "  host:\n",
            "    cpu: x86_64\n",
            "    endian: little\n",
            "    family: x86_64\n",
            "    system: linux\n",
            "Python Information:\n",
            "  path: /tmp/build-env-zm_4loqi/bin/python\n",
            "  version: '3.11'\n",
            "SIMD Extensions:\n",
            "  baseline:\n",
            "  - SSE\n",
            "  - SSE2\n",
            "  - SSE3\n",
            "  found:\n",
            "  - SSSE3\n",
            "  - SSE41\n",
            "  - POPCNT\n",
            "  - SSE42\n",
            "  - AVX\n",
            "  - F16C\n",
            "  - FMA3\n",
            "  - AVX2\n",
            "  not found:\n",
            "  - AVX512F\n",
            "  - AVX512CD\n",
            "  - AVX512_KNL\n",
            "  - AVX512_KNM\n",
            "  - AVX512_SKX\n",
            "  - AVX512_CLX\n",
            "  - AVX512_CNL\n",
            "  - AVX512_ICL\n",
            "\n"
          ]
        }
      ],
      "source": [
        "import numpy as np\n",
        "\n",
        "\n",
        "\n",
        "print(\"NumPy Version:\", np.__version__)\n",
        "\n",
        "\n",
        "np.show_config()\n"
      ]
    },
    {
      "cell_type": "markdown",
      "id": "46950f4f",
      "metadata": {
        "id": "46950f4f"
      },
      "source": [
        "#### 2. Convert a list of numeric value into a one-dimensional NumPy array (★☆☆)\n",
        "`💡 hint: numpy.array`"
      ]
    },
    {
      "cell_type": "code",
      "execution_count": 4,
      "id": "9b0e875f",
      "metadata": {
        "colab": {
          "base_uri": "https://localhost:8080/"
        },
        "id": "9b0e875f",
        "outputId": "5a907599-7511-4ffc-933b-c8cdd2718898"
      },
      "outputs": [
        {
          "output_type": "stream",
          "name": "stdout",
          "text": [
            "[1 2 3 4 5]\n",
            "<class 'numpy.ndarray'>\n"
          ]
        }
      ],
      "source": [
        "import numpy as np\n",
        "\n",
        "# List of numeric values\n",
        "my_list = [1, 2, 3, 4, 5]\n",
        "\n",
        "arr=np.array(my_list)\n",
        "\n",
        "print(arr)\n",
        "print(type(arr))"
      ]
    },
    {
      "cell_type": "markdown",
      "id": "e3c20b3d",
      "metadata": {
        "id": "e3c20b3d"
      },
      "source": [
        "#### 3. Create a null vector of size 9 (★☆☆)\n",
        "`💡 hint: np.zeros`"
      ]
    },
    {
      "cell_type": "code",
      "execution_count": 5,
      "id": "96d0b63e",
      "metadata": {
        "colab": {
          "base_uri": "https://localhost:8080/"
        },
        "id": "96d0b63e",
        "outputId": "fc047f5d-803d-4e1b-abff-59f937eef11b"
      },
      "outputs": [
        {
          "output_type": "stream",
          "name": "stdout",
          "text": [
            "[0. 0. 0. 0. 0. 0. 0. 0. 0.]\n"
          ]
        }
      ],
      "source": [
        "null_vector = np.zeros(9)\n",
        "print(null_vector)"
      ]
    },
    {
      "cell_type": "markdown",
      "id": "b15a879f",
      "metadata": {
        "id": "b15a879f"
      },
      "source": [
        "#### 4. How to find the memory size of any array (★☆☆)\n",
        "`💡 hint: size, itemsize`"
      ]
    },
    {
      "cell_type": "code",
      "execution_count": 13,
      "id": "32f9025c",
      "metadata": {
        "colab": {
          "base_uri": "https://localhost:8080/"
        },
        "id": "32f9025c",
        "outputId": "041d100b-3de3-4948-be19-d63f8e194b4b"
      },
      "outputs": [
        {
          "output_type": "stream",
          "name": "stdout",
          "text": [
            "Memory size in bytes: 40\n"
          ]
        }
      ],
      "source": [
        "import numpy as np\n",
        "\n",
        "arr = np.array([1, 2, 3, 4, 5])\n",
        "\n",
        "# مصفوفة مثال\n",
        "arr = np.array([1, 2, 3, 4, 5])\n",
        "\n",
        "# حساب حجم الذاكرة\n",
        "memory_size = arr.size * arr.itemsize\n",
        "\n",
        "print(\"Memory size in bytes:\", memory_size)\n"
      ]
    },
    {
      "cell_type": "markdown",
      "id": "0a708990",
      "metadata": {
        "id": "0a708990"
      },
      "source": [
        "#### 5. How to get the documentation of the numpy add function from the command line? (★☆☆)\n",
        "`💡hint: np.info`"
      ]
    },
    {
      "cell_type": "code",
      "execution_count": 14,
      "id": "d254eea5",
      "metadata": {
        "colab": {
          "base_uri": "https://localhost:8080/"
        },
        "id": "d254eea5",
        "outputId": "a6434a75-a333-4f99-e5fc-b1e4d92b2b17"
      },
      "outputs": [
        {
          "output_type": "stream",
          "name": "stdout",
          "text": [
            "Help on ufunc:\n",
            "\n",
            "add = <ufunc 'add'>\n",
            "    add(x1, x2, /, out=None, *, where=True, casting='same_kind', order='K', dtype=None, subok=True[, signature])\n",
            "    \n",
            "    Add arguments element-wise.\n",
            "    \n",
            "    Parameters\n",
            "    ----------\n",
            "    x1, x2 : array_like\n",
            "        The arrays to be added.\n",
            "        If ``x1.shape != x2.shape``, they must be broadcastable to a common\n",
            "        shape (which becomes the shape of the output).\n",
            "    out : ndarray, None, or tuple of ndarray and None, optional\n",
            "        A location into which the result is stored. If provided, it must have\n",
            "        a shape that the inputs broadcast to. If not provided or None,\n",
            "        a freshly-allocated array is returned. A tuple (possible only as a\n",
            "        keyword argument) must have length equal to the number of outputs.\n",
            "    where : array_like, optional\n",
            "        This condition is broadcast over the input. At locations where the\n",
            "        condition is True, the `out` array will be set to the ufunc result.\n",
            "        Elsewhere, the `out` array will retain its original value.\n",
            "        Note that if an uninitialized `out` array is created via the default\n",
            "        ``out=None``, locations within it where the condition is False will\n",
            "        remain uninitialized.\n",
            "    **kwargs\n",
            "        For other keyword-only arguments, see the\n",
            "        :ref:`ufunc docs <ufuncs.kwargs>`.\n",
            "    \n",
            "    Returns\n",
            "    -------\n",
            "    add : ndarray or scalar\n",
            "        The sum of `x1` and `x2`, element-wise.\n",
            "        This is a scalar if both `x1` and `x2` are scalars.\n",
            "    \n",
            "    Notes\n",
            "    -----\n",
            "    Equivalent to `x1` + `x2` in terms of array broadcasting.\n",
            "    \n",
            "    Examples\n",
            "    --------\n",
            "    >>> np.add(1.0, 4.0)\n",
            "    5.0\n",
            "    >>> x1 = np.arange(9.0).reshape((3, 3))\n",
            "    >>> x2 = np.arange(3.0)\n",
            "    >>> np.add(x1, x2)\n",
            "    array([[  0.,   2.,   4.],\n",
            "           [  3.,   5.,   7.],\n",
            "           [  6.,   8.,  10.]])\n",
            "    \n",
            "    The ``+`` operator can be used as a shorthand for ``np.add`` on ndarrays.\n",
            "    \n",
            "    >>> x1 = np.arange(9.0).reshape((3, 3))\n",
            "    >>> x2 = np.arange(3.0)\n",
            "    >>> x1 + x2\n",
            "    array([[ 0.,  2.,  4.],\n",
            "           [ 3.,  5.,  7.],\n",
            "           [ 6.,  8., 10.]])\n",
            "\n"
          ]
        }
      ],
      "source": [
        "import numpy as np\n",
        "\n",
        "help(np.add)\n",
        ""
      ]
    },
    {
      "cell_type": "markdown",
      "source": [],
      "metadata": {
        "id": "t8Rf6EqDfjDl"
      },
      "id": "t8Rf6EqDfjDl"
    },
    {
      "cell_type": "markdown",
      "id": "0b16cd77",
      "metadata": {
        "id": "0b16cd77"
      },
      "source": [
        "#### 6. Create a null vector of size 12\n",
        "\n",
        "*   List item\n",
        "*   List item\n",
        "\n",
        "but the sixth value which is 1 (★☆☆)\n",
        "`💡hint: array[12]`"
      ]
    },
    {
      "cell_type": "code",
      "execution_count": null,
      "id": "05223560",
      "metadata": {
        "id": "05223560"
      },
      "outputs": [],
      "source": [
        "import numpy as np\n",
        "\n",
        "null_vector = np.zeros(12)\n",
        "\n",
        "null_vector[5] = 1\n",
        "\n",
        "print(null_vector)"
      ]
    },
    {
      "cell_type": "markdown",
      "id": "782d4c77",
      "metadata": {
        "id": "782d4c77"
      },
      "source": [
        "#### 7. Create a vector with values ranging from 20 to 59 (★☆☆)\n",
        "`💡hint: arange`"
      ]
    },
    {
      "cell_type": "code",
      "execution_count": null,
      "id": "7250d114",
      "metadata": {
        "id": "7250d114"
      },
      "outputs": [],
      "source": [
        "import numpy as np\n",
        "\n",
        "vector = np.arange(20, 60)\n",
        "\n",
        "print(vector)"
      ]
    },
    {
      "cell_type": "markdown",
      "id": "48d48f01",
      "metadata": {
        "id": "48d48f01"
      },
      "source": [
        "#### 8. Reverse a vector (first element becomes last) (★☆☆)\n",
        "`💡hint: array[::-1]`"
      ]
    },
    {
      "cell_type": "code",
      "execution_count": null,
      "id": "fb702ae0",
      "metadata": {
        "id": "fb702ae0"
      },
      "outputs": [],
      "source": [
        "import numpy as np\n",
        "\n",
        "vector = np.array([1, 2, 3, 4, 5])\n",
        "\n",
        "reversed_vector = vector[::-1]\n",
        "\n",
        "print(reversed_vector)"
      ]
    },
    {
      "cell_type": "markdown",
      "id": "4fa39382",
      "metadata": {
        "id": "4fa39382"
      },
      "source": [
        "#### 9. Create a 3x3 matrix with values ranging from 12 to 20 (★☆☆)\n",
        "`💡hint: reshape`"
      ]
    },
    {
      "cell_type": "code",
      "execution_count": null,
      "id": "97e6be92",
      "metadata": {
        "id": "97e6be92"
      },
      "outputs": [],
      "source": [
        "import numpy as np\n",
        "\n",
        "matrix = np.arange(12, 21).reshape(3, 3)\n",
        "\n",
        "print(matrix)"
      ]
    },
    {
      "cell_type": "markdown",
      "id": "da64551a",
      "metadata": {
        "id": "da64551a"
      },
      "source": [
        "#### 10. Find indices of non-zero elements from [3,7,0,0,9,0] (★☆☆)\n",
        "`💡hint: np.nonzero`"
      ]
    },
    {
      "cell_type": "code",
      "execution_count": null,
      "id": "322b2b68",
      "metadata": {
        "id": "322b2b68"
      },
      "outputs": [],
      "source": [
        "import numpy as np\n",
        "\n",
        "arr = np.array([3, 7, 0, 0, 9, 0])\n",
        "\n",
        "non_zero_indices = np.nonzero(arr)\n",
        "\n",
        "print(non_zero_indices)"
      ]
    },
    {
      "cell_type": "markdown",
      "id": "f89d9c9e",
      "metadata": {
        "id": "f89d9c9e"
      },
      "source": [
        "#### 11. Create a 4x4 identity matrix (★☆☆)\n",
        "`💡hint: np.eye`"
      ]
    },
    {
      "cell_type": "code",
      "execution_count": null,
      "id": "5717e1c1",
      "metadata": {
        "id": "5717e1c1"
      },
      "outputs": [],
      "source": [
        "import numpy as np\n",
        "\n",
        "identity_matrix = np.eye(4)\n",
        "\n",
        "print(identity_matrix)"
      ]
    },
    {
      "cell_type": "markdown",
      "id": "7e44c6fa",
      "metadata": {
        "id": "7e44c6fa"
      },
      "source": [
        "#### 12. Create a 2x2x2 array with random values (★☆☆)\n",
        "`💡hint: np.random.random`"
      ]
    },
    {
      "cell_type": "code",
      "execution_count": null,
      "id": "c8fd52e1",
      "metadata": {
        "id": "c8fd52e1"
      },
      "outputs": [],
      "source": []
    },
    {
      "cell_type": "markdown",
      "id": "13c5928c",
      "metadata": {
        "id": "13c5928c"
      },
      "source": [
        "#### 13. Create a 9x9 array with random values and find the minimum and maximum values (★☆☆)\n",
        "`💡hint: min, max`"
      ]
    },
    {
      "cell_type": "code",
      "execution_count": null,
      "id": "0ede4d26",
      "metadata": {
        "id": "0ede4d26"
      },
      "outputs": [],
      "source": [
        "import numpy as np\n",
        "\n",
        "arr = np.random.rand(9, 9)\n",
        "\n",
        "min_value = np.min(arr)\n",
        "max_value = np.max(arr)\n",
        "\n",
        "print(\"Minimum value:\", min_value)\n",
        "print(\"Maximum value:\", max_value)"
      ]
    },
    {
      "cell_type": "markdown",
      "id": "3fa2e461",
      "metadata": {
        "id": "3fa2e461"
      },
      "source": [
        "#### 14. Create a random vector of size 20 and find the mean value (★☆☆)\n",
        "`💡hint: mean`"
      ]
    },
    {
      "cell_type": "code",
      "execution_count": null,
      "id": "c0048e59",
      "metadata": {
        "id": "c0048e59"
      },
      "outputs": [],
      "source": [
        "import numpy as np\n",
        "\n",
        "vector = np.random.rand(20)\n",
        "\n",
        "mean_value = np.mean(vector)\n",
        "\n",
        "print(\"Mean value:\", mean_value)"
      ]
    },
    {
      "cell_type": "markdown",
      "id": "73f7a549",
      "metadata": {
        "id": "73f7a549"
      },
      "source": [
        "#### 15. Create a 2d array with 1 on the border and 0 inside (★☆☆)\n",
        "`💡hint: array[1:-1, 1:-1]`"
      ]
    },
    {
      "cell_type": "code",
      "execution_count": null,
      "id": "351ff928",
      "metadata": {
        "id": "351ff928"
      },
      "outputs": [],
      "source": [
        "import numpy as np\n",
        "\n",
        "arr = np.ones((5, 5))\n",
        "\n",
        "arr[1:-1, 1:-1] = 0\n",
        "\n",
        "print(arr)"
      ]
    },
    {
      "cell_type": "markdown",
      "id": "6d0c506f",
      "metadata": {
        "id": "6d0c506f"
      },
      "source": [
        "#### 16. How to add a border (filled with 0's) around an existing array? (★☆☆)\n",
        "`💡hint: np.pad`"
      ]
    },
    {
      "cell_type": "code",
      "execution_count": null,
      "id": "c1cc1143",
      "metadata": {
        "id": "c1cc1143"
      },
      "outputs": [],
      "source": [
        "import numpy as np\n",
        "\n",
        "arr = np.array([[1, 2, 3],\n",
        "                [4, 5, 6],\n",
        "                [7, 8, 9]])"
      ]
    },
    {
      "cell_type": "markdown",
      "id": "d6ad1a9f",
      "metadata": {
        "id": "d6ad1a9f"
      },
      "source": [
        "#### 17. What is the result of the following expression? (★☆☆)\n",
        "```python\n",
        "0 * np.nan\n",
        "np.nan == np.nan\n",
        "np.inf > np.nan\n",
        "np.nan - np.nan\n",
        "np.nan in set([np.nan])\n",
        "0.7 == 7 * 0.1\n",
        "```\n",
        "`💡hint: NaN = not a number, inf = infinity`"
      ]
    },
    {
      "cell_type": "code",
      "execution_count": null,
      "id": "7ba3c441",
      "metadata": {
        "id": "7ba3c441"
      },
      "outputs": [],
      "source": [
        "import numpy as np"
      ]
    },
    {
      "cell_type": "markdown",
      "id": "e3a7ba7f",
      "metadata": {
        "id": "e3a7ba7f"
      },
      "source": [
        "#### 18. Create a 6x6 matrix with values 1,2,3,4 just below the diagonal (★☆☆)\n",
        "`💡hint: np.diag`"
      ]
    },
    {
      "cell_type": "code",
      "execution_count": null,
      "id": "b874734e",
      "metadata": {
        "id": "b874734e"
      },
      "outputs": [],
      "source": [
        "import numpy as np\n",
        "\n",
        "matrix = np.zeros((6, 6))\n",
        "\n",
        "values = [1, 2, 3, 4]\n",
        "\n",
        "matrix = np.diag(values, k=-1)\n",
        "\n",
        "print(matrix)"
      ]
    },
    {
      "cell_type": "markdown",
      "id": "6d17ab5d",
      "metadata": {
        "id": "6d17ab5d"
      },
      "source": [
        "#### 19. Create a 6x6 matrix and fill it with a checkerboard pattern (★☆☆)\n",
        "`💡hint: array[::2]`"
      ]
    },
    {
      "cell_type": "code",
      "execution_count": null,
      "id": "4c4e2c5e",
      "metadata": {
        "id": "4c4e2c5e"
      },
      "outputs": [],
      "source": [
        "import numpy as np\n",
        "\n",
        "matrix = np.zeros((6, 6), dtype=int)\n",
        "\n",
        "matrix[::2, 1::2] = 1\n",
        "matrix[1::2, ::2] = 1\n",
        "\n",
        "print(matrix)"
      ]
    },
    {
      "cell_type": "markdown",
      "id": "8837119b",
      "metadata": {
        "id": "8837119b"
      },
      "source": [
        "#### 20. Consider a (8,9,10) shape array, what is the index (x,y,z) of the 100th element? (★☆☆)\n",
        "`💡hint: np.unravel_index`"
      ]
    },
    {
      "cell_type": "code",
      "execution_count": null,
      "id": "2b05c544",
      "metadata": {
        "id": "2b05c544"
      },
      "outputs": [],
      "source": [
        "import numpy as np\n",
        "\n",
        "shape = (8, 9, 10)\n",
        "index = 100\n",
        "\n",
        "result = np.unravel_index(index, shape)\n",
        "\n",
        "print(result)"
      ]
    },
    {
      "cell_type": "markdown",
      "id": "ec788c9f",
      "metadata": {
        "id": "ec788c9f"
      },
      "source": [
        "#### 21. Create a checkerboard 8x8 matrix using the tile function (★☆☆)\n",
        "`💡hint: np.tile`"
      ]
    },
    {
      "cell_type": "code",
      "execution_count": null,
      "id": "c3980b2c",
      "metadata": {
        "id": "c3980b2c"
      },
      "outputs": [],
      "source": [
        "import numpy as np\n",
        "\n",
        "pattern = np.array([[0, 1], [1, 0]])\n",
        "\n",
        "checkerboard = np.tile(pattern, (4, 4))\n",
        "\n",
        "print(checkerboard)"
      ]
    },
    {
      "cell_type": "markdown",
      "id": "391791e0",
      "metadata": {
        "id": "391791e0"
      },
      "source": [
        "#### 22. Normalize a 6x6 random matrix (★☆☆)\n",
        "`💡hint: (x -mean)/std`"
      ]
    },
    {
      "cell_type": "code",
      "execution_count": null,
      "id": "ada71c06",
      "metadata": {
        "id": "ada71c06"
      },
      "outputs": [],
      "source": [
        "import numpy as np\n",
        "\n",
        "matrix = np.random.rand(6, 6)\n",
        "\n",
        "mean = np.mean(matrix)\n",
        "std = np.std(matrix)\n",
        "\n",
        "normalized_matrix = (matrix - mean) / std"
      ]
    },
    {
      "cell_type": "markdown",
      "id": "1e74d39e",
      "metadata": {
        "id": "1e74d39e"
      },
      "source": [
        "#### 23. find the number of elements of an array, length of one array element in bytes and total bytes consumed by the elements. (★☆☆)"
      ]
    },
    {
      "cell_type": "code",
      "execution_count": null,
      "id": "eb0e066c",
      "metadata": {
        "id": "eb0e066c"
      },
      "outputs": [],
      "source": [
        "import numpy as np\n",
        "\n",
        "arr = np.array([1, 2, 3, 4, 5])\n",
        "\n",
        "num_elements = arr.size\n",
        "element_size = arr.itemsize\n",
        "total_bytes = arr.nbytes"
      ]
    },
    {
      "cell_type": "markdown",
      "id": "78250c14",
      "metadata": {
        "id": "78250c14"
      },
      "source": [
        "#### 24. Multiply a 6x3 matrix by a 3x4 matrix (real matrix product) (★☆☆)\n",
        "`💡hint: np.dot` or `np.ones`"
      ]
    },
    {
      "cell_type": "code",
      "execution_count": null,
      "id": "2e482afe",
      "metadata": {
        "id": "2e482afe"
      },
      "outputs": [],
      "source": [
        "import numpy as np\n",
        "\n",
        "matrix1 = np.random.rand(6, 3)\n",
        "matrix2 = np.random.rand(3, 4)\n",
        "\n",
        "result = np.dot(matrix1, matrix2)"
      ]
    },
    {
      "cell_type": "markdown",
      "id": "51898680",
      "metadata": {
        "id": "51898680"
      },
      "source": [
        "#### 25. Given a 1D array, negate all elements which are between 3 and 8, in place. (★☆☆)\n",
        "`💡hint: >, <`"
      ]
    },
    {
      "cell_type": "code",
      "execution_count": null,
      "id": "ee92ccaf",
      "metadata": {
        "id": "ee92ccaf"
      },
      "outputs": [],
      "source": [
        "import numpy as np\n",
        "\n",
        "arr = np.array([1, 2, 3, 4, 5, 6, 7, 8, 9])\n",
        "\n",
        "arr[(arr > 3) & (arr < 8)] *= -1"
      ]
    },
    {
      "cell_type": "markdown",
      "id": "89e78048",
      "metadata": {
        "id": "89e78048"
      },
      "source": [
        "#### 26. What is the output of the following script? (★☆☆)\n",
        "```python\n",
        "\n",
        "print(sum(range(5),-1))\n",
        "from numpy import *\n",
        "print(sum(range(5),-1))\n",
        "```"
      ]
    },
    {
      "cell_type": "code",
      "execution_count": null,
      "id": "8026c969",
      "metadata": {
        "id": "8026c969"
      },
      "outputs": [],
      "source": [
        "import numpy as np\n",
        "print(sum(range(5),-1))\n",
        "from numpy import *\n",
        "print(sum(range(5),-1))"
      ]
    },
    {
      "cell_type": "markdown",
      "id": "ebd10810",
      "metadata": {
        "id": "ebd10810"
      },
      "source": [
        "#### 27. Write a Python program compare two arrays using numpy (★☆☆)\n",
        "```python\n",
        "Array a: [1 2]\n",
        "Array b: [4 5]\n",
        "a > b\n",
        "[False False]\n",
        "a >= b\n",
        "[False False]\n",
        "a < b\n",
        "[ True True]\n",
        "a <= b\n",
        "[ True True]\n",
        "```"
      ]
    },
    {
      "cell_type": "code",
      "execution_count": null,
      "id": "90fed5c6",
      "metadata": {
        "id": "90fed5c6"
      },
      "outputs": [],
      "source": [
        "import numpy as np\n",
        "\n",
        "a = np.array([1, 2])\n",
        "b = np.array([4, 5])"
      ]
    },
    {
      "cell_type": "markdown",
      "id": "c0e940f8",
      "metadata": {
        "id": "c0e940f8"
      },
      "source": [
        "#### 28. What are the result of the following expressions? (★☆☆)\n",
        "```python\n",
        "np.array(0) / np.array(0)\n",
        "np.array(0) // np.array(0)\n",
        "np.array([np.nan]).astype(int).astype(float)\n",
        "```\n",
        "Consider an integer vector a\n",
        "```python\n",
        "a**a\n",
        "a << a >> 2\n",
        "a <- a\n",
        "1j*a\n",
        "a/1/1\n",
        "a<a>a\n",
        "```"
      ]
    },
    {
      "cell_type": "code",
      "execution_count": null,
      "id": "50d84cdf",
      "metadata": {
        "id": "50d84cdf"
      },
      "outputs": [],
      "source": [
        "import numpy as np\n",
        "\n",
        "a = np.array([1, 2, 3])"
      ]
    },
    {
      "cell_type": "markdown",
      "id": "22713c3f",
      "metadata": {
        "id": "22713c3f"
      },
      "source": [
        "#### 29. How to round away from zero a float array ? (★☆☆)\n",
        "`💡hint: np.uniform, np.copysign, np.ceil, np.abs, np.where`"
      ]
    },
    {
      "cell_type": "code",
      "execution_count": null,
      "id": "85ebdda9",
      "metadata": {
        "id": "85ebdda9"
      },
      "outputs": [],
      "source": [
        "import numpy as np\n",
        "\n",
        "arr = np.array([-1.2, 0.5, -3.7, 2.4])\n",
        "\n",
        "rounded_arr = np.where(arr >= 0, np.ceil(arr), np.floor(arr))"
      ]
    },
    {
      "cell_type": "markdown",
      "id": "f1ae2c2d",
      "metadata": {
        "id": "f1ae2c2d"
      },
      "source": [
        "#### 30. How to find common values between two arrays? (★☆☆)\n",
        "`💡hint: np.intersect1d`"
      ]
    },
    {
      "cell_type": "code",
      "execution_count": null,
      "id": "097482ad",
      "metadata": {
        "id": "097482ad"
      },
      "outputs": [],
      "source": [
        "import numpy as np\n",
        "\n",
        "arr1 = np.array([1, 2, 3, 4, 5])\n",
        "arr2 = np.array([3, 4, 5, 6, 7])"
      ]
    },
    {
      "cell_type": "markdown",
      "id": "34a7bdee",
      "metadata": {
        "id": "34a7bdee"
      },
      "source": [
        "#### 31. How to ignore all numpy warnings (not recommended)? (★☆☆)\n",
        "`💡hint: np.seterr, np.errstate`"
      ]
    },
    {
      "cell_type": "code",
      "execution_count": null,
      "id": "95ba8c7d",
      "metadata": {
        "id": "95ba8c7d"
      },
      "outputs": [],
      "source": [
        "import numpy as np\n",
        "\n",
        "np.seterr(all='ignore')"
      ]
    },
    {
      "cell_type": "markdown",
      "id": "37bc0973",
      "metadata": {
        "id": "37bc0973"
      },
      "source": [
        "#### 32. Is the following expressions true? (★☆☆)\n",
        "```python\n",
        "np.sqrt(-1) == np.emath.sqrt(-1)\n",
        "```\n",
        "`💡hint: imaginary number`"
      ]
    },
    {
      "cell_type": "code",
      "execution_count": null,
      "id": "6925e9db",
      "metadata": {
        "id": "6925e9db"
      },
      "outputs": [],
      "source": [
        "import numpy as np\n",
        "\n",
        "print(np.sqrt(-1) == np.emath.sqrt(-1))"
      ]
    },
    {
      "cell_type": "markdown",
      "id": "129c342d",
      "metadata": {
        "id": "129c342d"
      },
      "source": [
        "#### 33. How to get the dates of yesterday, today and tomorrow? (★☆☆)\n",
        "`💡hint: np.datetime64, np.timedelta64`"
      ]
    },
    {
      "cell_type": "code",
      "execution_count": null,
      "id": "0fd2f947",
      "metadata": {
        "id": "0fd2f947"
      },
      "outputs": [],
      "source": [
        "import numpy as np\n",
        "\n",
        "yesterday = np.datetime64('today') - np.timedelta64(1, 'D')\n",
        "today = np.datetime64('today')\n",
        "tomorrow = np.datetime64('today') + np.timedelta64(1, 'D')"
      ]
    },
    {
      "cell_type": "markdown",
      "id": "42f8b2f9",
      "metadata": {
        "id": "42f8b2f9"
      },
      "source": [
        "#### 34. How to get all the dates corresponding to the month of January 2016? (★★☆)\n",
        "`💡hint: np.arange(dtype=datetime64['D'])`"
      ]
    },
    {
      "cell_type": "code",
      "execution_count": null,
      "id": "5ad086b0",
      "metadata": {
        "id": "5ad086b0"
      },
      "outputs": [],
      "source": [
        "import numpy as np\n",
        "\n",
        "dates = np.arange('2016-01', '2016-02', dtype='datetime64[D]')"
      ]
    },
    {
      "cell_type": "markdown",
      "id": "252c43e2",
      "metadata": {
        "id": "252c43e2"
      },
      "source": [
        "#### 35. How to compute ((A+B)*(-A/2)) in place (without copy)? (★★☆)\n",
        "`💡hint: np.add(out=), np.negative(out=), np.multiply(out=), np.divide(out=)`"
      ]
    },
    {
      "cell_type": "code",
      "execution_count": null,
      "id": "34488d4b",
      "metadata": {
        "id": "34488d4b"
      },
      "outputs": [],
      "source": [
        "import numpy as np\n",
        "\n",
        "A = np.array([1, 2, 3])\n",
        "B = np.array([4, 5, 6])"
      ]
    },
    {
      "cell_type": "markdown",
      "id": "486df8ea",
      "metadata": {
        "id": "486df8ea"
      },
      "source": [
        "#### 36. Extract the integer part of a random array of positive numbers using 4 different methods (★★☆)\n",
        "`💡hint: %, np.floor, astype, np.trunc`"
      ]
    },
    {
      "cell_type": "code",
      "execution_count": null,
      "id": "2680c1ca",
      "metadata": {
        "id": "2680c1ca"
      },
      "outputs": [],
      "source": [
        "import numpy as np\n",
        "\n",
        "arr = np.random.rand(5) * 10"
      ]
    },
    {
      "cell_type": "markdown",
      "id": "649e89f9",
      "metadata": {
        "id": "649e89f9"
      },
      "source": [
        "#### 37. Create a 3x3 matrix with row values ranging from 0 to 2 (★★☆)\n",
        "`💡hint: np.arange`"
      ]
    },
    {
      "cell_type": "code",
      "execution_count": null,
      "id": "e832212f",
      "metadata": {
        "id": "e832212f"
      },
      "outputs": [],
      "source": [
        "import numpy as np\n",
        "\n",
        "matrix = np.zeros((3, 3))\n",
        "matrix += np.arange(3)"
      ]
    },
    {
      "cell_type": "markdown",
      "id": "3421e17f",
      "metadata": {
        "id": "3421e17f"
      },
      "source": [
        "#### 38. Consider a generator function that generates 9 integers and use it to build an array (★☆☆)\n",
        "`💡hint: np.fromiter`"
      ]
    },
    {
      "cell_type": "code",
      "execution_count": null,
      "id": "d97fcb71",
      "metadata": {
        "id": "d97fcb71"
      },
      "outputs": [],
      "source": [
        "import numpy as np\n",
        "\n",
        "def generate_integers():\n",
        "    for i in range(9):\n",
        "        yield i\n",
        "\n",
        "arr = np.fromiter(generate_integers(), dtype=int)"
      ]
    },
    {
      "cell_type": "markdown",
      "id": "483dd554",
      "metadata": {
        "id": "483dd554"
      },
      "source": [
        "#### 39. Create a vector of size 10 with values ranging from 0 to 1, both excluded (★★☆)\n",
        "`💡hint: np.linspace`"
      ]
    },
    {
      "cell_type": "code",
      "execution_count": null,
      "id": "572668cb",
      "metadata": {
        "id": "572668cb"
      },
      "outputs": [],
      "source": [
        "import numpy as np\n",
        "\n",
        "vector = np.linspace(0, 1, num=10, endpoint=False)[1:]"
      ]
    },
    {
      "cell_type": "markdown",
      "id": "2d07be1c",
      "metadata": {
        "id": "2d07be1c"
      },
      "source": [
        "#### 40. Create a random vector of size 10 and sort it (★★☆)\n",
        "`💡hint: sort`"
      ]
    },
    {
      "cell_type": "code",
      "execution_count": 15,
      "id": "046a541a",
      "metadata": {
        "id": "046a541a"
      },
      "outputs": [],
      "source": [
        "import numpy as np\n",
        "\n",
        "vector = np.random.rand(10)\n",
        "vector.sort()"
      ]
    },
    {
      "cell_type": "markdown",
      "id": "6415f02e",
      "metadata": {
        "id": "6415f02e"
      },
      "source": [
        "#### 41. How to sum a small array faster than np.sum? (★★☆)\n",
        "`💡hint: np.add.reduce`"
      ]
    },
    {
      "cell_type": "code",
      "execution_count": null,
      "id": "129e785f",
      "metadata": {
        "id": "129e785f"
      },
      "outputs": [],
      "source": [
        "import numpy as np\n",
        "\n",
        "arr = np.array([1, 2, 3, 4, 5])\n",
        "result = np.add.reduce(arr)"
      ]
    },
    {
      "cell_type": "markdown",
      "id": "fe043549",
      "metadata": {
        "id": "fe043549"
      },
      "source": [
        "#### 42. Consider two random array A and B, check if they are equal (★★☆)\n",
        "`💡hint: np.allclose, np.array_equal`"
      ]
    },
    {
      "cell_type": "code",
      "execution_count": null,
      "id": "7ada2e2b",
      "metadata": {
        "id": "7ada2e2b"
      },
      "outputs": [],
      "source": [
        "import numpy as np\n",
        "\n",
        "A = np.random.rand(5)\n",
        "B = np.random.rand(5)\n",
        "\n",
        "are_equal = np.allclose(A, B)"
      ]
    },
    {
      "cell_type": "markdown",
      "id": "cc08f71c",
      "metadata": {
        "id": "cc08f71c"
      },
      "source": [
        "#### 43. Make an array immutable (read-only) (★★☆)\n",
        "`💡hint: flags.writeable`"
      ]
    },
    {
      "cell_type": "code",
      "execution_count": null,
      "id": "0b91afd1",
      "metadata": {
        "id": "0b91afd1"
      },
      "outputs": [],
      "source": [
        "import numpy as np\n",
        "\n",
        "arr = np.array([1, 2, 3, 4, 5])\n",
        "arr.flags.writeable = False"
      ]
    },
    {
      "cell_type": "markdown",
      "id": "2002cb03",
      "metadata": {
        "id": "2002cb03"
      },
      "source": [
        "#### 44. Consider a random 5x2 matrix representing cartesian coordinates, convert them to polar coordinates (★★☆)\n",
        "`💡hint: np.sqrt, np.arctan2`"
      ]
    },
    {
      "cell_type": "code",
      "execution_count": 17,
      "id": "16476671",
      "metadata": {
        "colab": {
          "base_uri": "https://localhost:8080/"
        },
        "id": "16476671",
        "outputId": "40971a8b-7652-484e-954b-66d5c62f9d31"
      },
      "outputs": [
        {
          "output_type": "stream",
          "name": "stdout",
          "text": [
            "re.VERBOSE\n",
            "[0.76189976 0.81976904 0.42708826 0.59234129 0.30627657]\n"
          ]
        }
      ],
      "source": [
        "from re import X\n",
        "import numpy as np\n",
        "\n",
        "cartesian_coordinates = np.random.rand(5, 2)\n",
        "\n",
        "x = cartesian_coordinates[:, 0]\n",
        "y = cartesian_coordinates[:, 1]\n",
        "print (X)\n",
        "print(y)"
      ]
    },
    {
      "cell_type": "markdown",
      "id": "b7109c9f",
      "metadata": {
        "id": "b7109c9f"
      },
      "source": [
        "#### 45. Create random vector of size 5 and replace the maximum value by 0 (★★☆)\n",
        "`💡hint: argmax`"
      ]
    },
    {
      "cell_type": "code",
      "execution_count": null,
      "id": "89b75e6d",
      "metadata": {
        "id": "89b75e6d"
      },
      "outputs": [],
      "source": [
        "import numpy as np\n",
        "\n",
        "vector = np.random.rand(5)\n",
        "max_index = np.argmax(vector)\n",
        "vector[max_index] = 0"
      ]
    },
    {
      "cell_type": "markdown",
      "id": "7d3131b9",
      "metadata": {
        "id": "7d3131b9"
      },
      "source": [
        "#### 46. Create a structured array with `x` and `y` coordinates covering the [0,1]x[0,1] area (★★☆)\n",
        "`💡hint: np.meshgrid`"
      ]
    },
    {
      "cell_type": "code",
      "execution_count": null,
      "id": "445532d0",
      "metadata": {
        "id": "445532d0"
      },
      "outputs": [],
      "source": [
        "import numpy as np\n",
        "\n",
        "x = np.linspace(0, 1, 5)\n",
        "y = np.linspace(0, 1, 5)\n",
        "\n",
        "X, Y = np.meshgrid(x, y)"
      ]
    },
    {
      "cell_type": "markdown",
      "id": "7c8c1fc5",
      "metadata": {
        "id": "7c8c1fc5"
      },
      "source": [
        "#### 47. Given two arrays, X and Y, construct the Cauchy matrix C (Cij =1/(xi - yj)) (★★☆)\n",
        "`💡hint: np.subtract.outer`"
      ]
    },
    {
      "cell_type": "code",
      "execution_count": null,
      "id": "7668afae",
      "metadata": {
        "id": "7668afae"
      },
      "outputs": [],
      "source": [
        "import numpy as np\n",
        "\n",
        "X = np.array([1, 2, 3])\n",
        "Y = np.array([4, 5, 6])\n",
        "\n",
        "C = 1 / (X[:, np.newaxis] - Y)"
      ]
    },
    {
      "cell_type": "markdown",
      "id": "5795b4bd",
      "metadata": {
        "id": "5795b4bd"
      },
      "source": [
        "#### 48. Print the minimum and maximum representable value for each numpy scalar type (★★☆)\n",
        "`💡hint: np.iinfo, np.finfo, eps`"
      ]
    },
    {
      "cell_type": "code",
      "execution_count": null,
      "id": "f2eaddaa",
      "metadata": {
        "id": "f2eaddaa"
      },
      "outputs": [],
      "source": [
        "import numpy as np"
      ]
    },
    {
      "cell_type": "markdown",
      "id": "fb24674c",
      "metadata": {
        "id": "fb24674c"
      },
      "source": [
        "#### 49. How to print all the values of an array? (★★☆)\n",
        "`💡hint: np.set_printoptions`"
      ]
    },
    {
      "cell_type": "code",
      "execution_count": 18,
      "id": "9bdfaefe",
      "metadata": {
        "colab": {
          "base_uri": "https://localhost:8080/"
        },
        "id": "9bdfaefe",
        "outputId": "b410ecba-ce5b-4e2c-d7ec-b45cd98c4bed"
      },
      "outputs": [
        {
          "output_type": "stream",
          "name": "stdout",
          "text": [
            "[1 2 3 4 5]\n"
          ]
        }
      ],
      "source": [
        "import numpy as np\n",
        "\n",
        "arr = np.array([1, 2, 3, 4, 5])\n",
        "\n",
        "np.set_printoptions(threshold=np.inf)\n",
        "print(arr)"
      ]
    },
    {
      "cell_type": "markdown",
      "id": "e6e1ae2f",
      "metadata": {
        "id": "e6e1ae2f"
      },
      "source": [
        "#### 50. How to find the closest value (to a given scalar) in a vector? (★★☆)\n",
        "`💡hint: argmin`"
      ]
    },
    {
      "cell_type": "code",
      "execution_count": null,
      "id": "29a9e416",
      "metadata": {
        "id": "29a9e416"
      },
      "outputs": [],
      "source": [
        "import numpy as np\n",
        "\n",
        "vector = np.array([1, 2, 3, 4, 5])\n",
        "scalar = 3.5\n",
        "\n",
        "closest_value = vector[np.argmin(np.abs(vector - scalar))]"
      ]
    },
    {
      "cell_type": "markdown",
      "id": "c01f0ecf",
      "metadata": {
        "id": "c01f0ecf"
      },
      "source": [
        "#### 51. Create a structured array representing a position (x,y) and a color (r,g,b) (★★☆)\n",
        "`💡hint: dtype`"
      ]
    },
    {
      "cell_type": "code",
      "execution_count": null,
      "id": "a3241eca",
      "metadata": {
        "id": "a3241eca"
      },
      "outputs": [],
      "source": [
        "import numpy as np\n",
        "\n",
        "# تعريف نوع البيانات (structure)\n",
        "dt = np.dtype([\n",
        "    ('position', [('x', 'f4'), ('y', 'f4')]),  # f4 = float32\n",
        "    ('color', [('r', 'u1'), ('g', 'u1'), ('b', 'u1')])  # u1 = unsigned int8\n",
        "])\n",
        "\n",
        "# إنشاء structured array مع مثال بيانات\n",
        "data = np.array([\n",
        "    ((0.0, 0.0), (255, 0, 0)),   # أحمر\n",
        "    ((1.0, 1.0), (0, 255, 0)),   # أخضر\n",
        "    ((2.0, 2.0), (0, 0, 255))    # أزرق\n",
        "], dtype=dt)\n",
        "\n",
        "print(data)\n",
        "print(\"X positions:\", data['position']['x'])\n",
        "print(\"Red values:\", data['color']['r'])\n"
      ]
    },
    {
      "cell_type": "markdown",
      "id": "3b64a18b",
      "metadata": {
        "id": "3b64a18b"
      },
      "source": [
        "#### 52. Consider a random vector with shape (100,2) representing coordinates, find point by point distances (★★☆)\n",
        "`💡hint: np.atleast_2d, T, np.sqrt`"
      ]
    },
    {
      "cell_type": "code",
      "execution_count": null,
      "id": "f27585c3",
      "metadata": {
        "id": "f27585c3"
      },
      "outputs": [],
      "source": [
        "import numpy as np\n",
        "\n",
        "coordinates = np.random.rand(100, 2)"
      ]
    },
    {
      "cell_type": "markdown",
      "id": "48413134",
      "metadata": {
        "id": "48413134"
      },
      "source": [
        "#### 53. How to convert a float (32 bits) array into an integer (32 bits) in place?\n",
        "`💡hint: view and [:] =`"
      ]
    },
    {
      "cell_type": "code",
      "execution_count": null,
      "id": "59c8357d",
      "metadata": {
        "id": "59c8357d"
      },
      "outputs": [],
      "source": [
        "import numpy as np\n",
        "\n",
        "float_array = np.array([1.0, 2.5, 3.7, 4.2], dtype=np.float32)\n",
        "\n",
        "int_array = float_array.view(np.int32)"
      ]
    },
    {
      "cell_type": "markdown",
      "id": "0a532633",
      "metadata": {
        "id": "0a532633"
      },
      "source": [
        "#### 54. How to read the following file? (★★☆)\n",
        "```\n",
        "1, 2, 3, 4, 5\n",
        "6,  ,  , 7, 8\n",
        " ,  , 9,10,11\n",
        "```\n",
        "`💡hint: np.genfromtxt`"
      ]
    },
    {
      "cell_type": "code",
      "execution_count": null,
      "id": "81b2915b",
      "metadata": {
        "id": "81b2915b"
      },
      "outputs": [],
      "source": [
        "import numpy as np\n",
        "\n",
        "file_content = \"\"\"1, 2, 3, 4, 5\n",
        "6,  ,  , 7, 8\n",
        " ,  , 9,10,11\"\"\"\n",
        "\n",
        "lines = file_content.split('\\n')"
      ]
    },
    {
      "cell_type": "markdown",
      "id": "f98713a6",
      "metadata": {
        "id": "f98713a6"
      },
      "source": [
        "#### 55. What is the equivalent of enumerate for numpy arrays? (★★☆)\n",
        "`💡hint: np.ndenumerate, np.ndindex`"
      ]
    },
    {
      "cell_type": "code",
      "execution_count": null,
      "id": "c8ace8dc",
      "metadata": {
        "id": "c8ace8dc"
      },
      "outputs": [],
      "source": [
        "import numpy as np\n",
        "\n",
        "array = np.array([[1, 2, 3], [4, 5, 6], [7, 8, 9]])"
      ]
    },
    {
      "cell_type": "markdown",
      "id": "1abc7cc8",
      "metadata": {
        "id": "1abc7cc8"
      },
      "source": [
        "#### 56. Generate a generic 2D Gaussian-like array (★★☆)\n",
        "`💡hint: np.meshgrid, np.exp`"
      ]
    },
    {
      "cell_type": "code",
      "execution_count": null,
      "id": "8389dbf6",
      "metadata": {
        "id": "8389dbf6"
      },
      "outputs": [],
      "source": [
        "import numpy as np\n",
        "\n",
        "x, y = np.meshgrid(np.linspace(-1, 1, 5), np.linspace(-1, 1, 5))"
      ]
    },
    {
      "cell_type": "markdown",
      "id": "0cf413ee",
      "metadata": {
        "id": "0cf413ee"
      },
      "source": [
        "#### 57. How to randomly place e elements in a 2D array? (★★☆)\n",
        "`💡hint: np.put, np.random.choice`"
      ]
    },
    {
      "cell_type": "code",
      "execution_count": null,
      "id": "884c88de",
      "metadata": {
        "id": "884c88de"
      },
      "outputs": [],
      "source": [
        "import numpy as np\n",
        "\n",
        "n = 10\n",
        "p = 3\n",
        "\n",
        "arr = np.zeros((n, n))\n",
        "np.put(arr, np.random.choice(range(n*n), p, replace=False), 1)"
      ]
    },
    {
      "cell_type": "markdown",
      "id": "215b6acc",
      "metadata": {
        "id": "215b6acc"
      },
      "source": [
        "#### 58. Subtract the mean of each row of a matrix (★★☆)\n",
        "`💡hint: mean(axis=,keepdims=)`"
      ]
    },
    {
      "cell_type": "code",
      "execution_count": null,
      "id": "76d3b16a",
      "metadata": {
        "id": "76d3b16a"
      },
      "outputs": [],
      "source": [
        "import numpy as np\n",
        "\n",
        "matrix = np.array([[1, 2, 3], [4, 5, 6], [7, 8, 9]])"
      ]
    },
    {
      "cell_type": "markdown",
      "id": "c0cf37e0",
      "metadata": {
        "id": "c0cf37e0"
      },
      "source": [
        "#### 59. How to sort an array by the nth column? (★★☆)\n",
        "`💡hint: argsort`"
      ]
    },
    {
      "cell_type": "code",
      "execution_count": null,
      "id": "f99dfd2a",
      "metadata": {
        "id": "f99dfd2a"
      },
      "outputs": [],
      "source": [
        "import numpy as np\n",
        "\n",
        "arr = np.array([[3, 1, 2], [6, 4, 5], [9, 7, 8]])\n",
        "n = 1"
      ]
    },
    {
      "cell_type": "markdown",
      "id": "c17fb213",
      "metadata": {
        "id": "c17fb213"
      },
      "source": [
        "#### 60. How to tell if a given 2D array has null columns? (★★☆)\n",
        "`💡hint: any, ~`"
      ]
    },
    {
      "cell_type": "code",
      "execution_count": null,
      "id": "84346fc8",
      "metadata": {
        "id": "84346fc8"
      },
      "outputs": [],
      "source": [
        "import numpy as np\n",
        "\n",
        "arr = np.array([[1, 2, 3], [4, 5, 6], [7, 8, 9]])"
      ]
    },
    {
      "cell_type": "markdown",
      "id": "8aaab886",
      "metadata": {
        "id": "8aaab886"
      },
      "source": [
        "#### 61. Find the nearest value from a given value in an array (★★☆)\n",
        "`💡hint: np.abs, argmin, flat`"
      ]
    },
    {
      "cell_type": "code",
      "execution_count": null,
      "id": "72a6090d",
      "metadata": {
        "id": "72a6090d"
      },
      "outputs": [],
      "source": [
        "import numpy as np\n",
        "\n",
        "arr = np.array([1, 2, 3, 4, 5])\n",
        "given_value = 3.5"
      ]
    },
    {
      "cell_type": "markdown",
      "id": "66a04e2e",
      "metadata": {
        "id": "66a04e2e"
      },
      "source": [
        "#### 62. Considering two arrays with shape (1,3) and (3,1), how to compute their sum using an iterator? (★★☆)\n",
        "`💡"
      ]
    },
    {
      "cell_type": "code",
      "execution_count": null,
      "id": "93774f24",
      "metadata": {
        "id": "93774f24"
      },
      "outputs": [],
      "source": [
        "import numpy as np\n",
        "\n",
        "arr1 = np.array([[1, 2, 3]])\n",
        "arr2 = np.array([[4], [5], [6]])"
      ]
    },
    {
      "cell_type": "markdown",
      "id": "f4427f7f",
      "metadata": {
        "id": "f4427f7f"
      },
      "source": [
        "#### 63. Create an array class that has a name attribute (★★☆)\n",
        "`💡hint: class method`"
      ]
    },
    {
      "cell_type": "code",
      "execution_count": null,
      "id": "6e1952ed",
      "metadata": {
        "id": "6e1952ed"
      },
      "outputs": [],
      "source": [
        "import numpy as np\n",
        "\n",
        "class NamedArray(np.ndarray):\n",
        "    def __new__(cls, input_array, name):\n",
        "        obj = np.asarray(input_array).view(cls)\n",
        "        obj.name = name\n",
        "        return obj"
      ]
    },
    {
      "cell_type": "markdown",
      "id": "58be9dd4",
      "metadata": {
        "id": "58be9dd4"
      },
      "source": [
        "#### 64. Consider a given vector, how to add 1 to each element indexed by a second vector (be careful with repeated indices)? (★★★)\n",
        "`💡hint: np.bincount | np.add.at`"
      ]
    },
    {
      "cell_type": "code",
      "execution_count": null,
      "id": "9cf9e134",
      "metadata": {
        "id": "9cf9e134"
      },
      "outputs": [],
      "source": [
        "import numpy as np\n",
        "\n",
        "vector = np.array([1, 2, 3, 4, 5])\n",
        "indices = np.array([0, 2, 2, 4])\n",
        "\n",
        "np.add.at(vector, indices, 1)"
      ]
    },
    {
      "cell_type": "markdown",
      "id": "7348abd0",
      "metadata": {
        "id": "7348abd0"
      },
      "source": [
        "#### 65. How to accumulate elements of a vector (X) to an array (F) based on an index list (I)? (★★★)\n",
        "`💡hint: np.bincount`"
      ]
    },
    {
      "cell_type": "code",
      "execution_count": null,
      "id": "43a58dde",
      "metadata": {
        "id": "43a58dde"
      },
      "outputs": [],
      "source": [
        "import numpy as np\n",
        "\n",
        "X = np.array([1, 2, 3, 4, 5])\n",
        "I = np.array([0, 2, 2, 4])\n",
        "\n",
        "F = np.bincount(I, weights=X)"
      ]
    },
    {
      "cell_type": "markdown",
      "id": "538e651c",
      "metadata": {
        "id": "538e651c"
      },
      "source": [
        "#### 66. Considering a (w,h,3) image of (dtype=ubyte), compute the number of unique colors (★★☆)\n",
        "`💡hint: np.unique`"
      ]
    },
    {
      "cell_type": "code",
      "execution_count": null,
      "id": "60b487a1",
      "metadata": {
        "id": "60b487a1"
      },
      "outputs": [],
      "source": [
        "import numpy as np\n",
        "\n",
        "image = np.random.randint(0, 256, size=(10, 10, 3), dtype=np.uint8)\n",
        "\n",
        "unique_colors = np.unique(image.reshape(-1, 3), axis=0)"
      ]
    },
    {
      "cell_type": "markdown",
      "id": "33c986d9",
      "metadata": {
        "id": "33c986d9"
      },
      "source": [
        "#### 67. Considering a four dimensions array, how to get sum over the last two axis at once? (★★★)\n",
        "`💡hint: sum(axis=(-2,-1))`"
      ]
    },
    {
      "cell_type": "code",
      "execution_count": null,
      "id": "6ba943fe",
      "metadata": {
        "id": "6ba943fe"
      },
      "outputs": [],
      "source": [
        "import numpy as np\n",
        "\n",
        "arr = np.random.rand(2, 3, 4, 5)"
      ]
    },
    {
      "cell_type": "markdown",
      "id": "00eb27c4",
      "metadata": {
        "id": "00eb27c4"
      },
      "source": [
        "#### 68. Considering a one-dimensional vector D, how to compute means of subsets of D using a vector S of same size describing subset  indices? (★★★)\n",
        "`💡hint: np.bincount`"
      ]
    },
    {
      "cell_type": "code",
      "execution_count": null,
      "id": "177b219c",
      "metadata": {
        "id": "177b219c"
      },
      "outputs": [],
      "source": [
        "import numpy as np\n",
        "\n",
        "# بيانات المثال\n",
        "D = np.array([10, 20, 30, 40, 50, 60])\n",
        "S = np.array([0, 0, 1, 1, 2, 2])  # مؤشرات المجموعات\n",
        "\n",
        "# حساب مجموع كل subset\n",
        "sum_per_subset = np.bincount(S, weights=D)\n",
        "\n",
        "# حساب عدد العناصر في كل subset\n",
        "count_per_subset = np.bincount(S)\n",
        "\n",
        "# حساب المتوسط لكل subset\n",
        "mean_per_subset = sum_per_subset / count_per_subset\n",
        "\n",
        "print(\"Mean per subset:\", mean_per_subset)\n"
      ]
    },
    {
      "cell_type": "markdown",
      "id": "928a1a15",
      "metadata": {
        "id": "928a1a15"
      },
      "source": [
        "#### 69. How to get the diagonal of a dot product? (★★★)\n",
        "`💡hint: np.diag`"
      ]
    },
    {
      "cell_type": "code",
      "execution_count": null,
      "id": "038b9c1c",
      "metadata": {
        "id": "038b9c1c"
      },
      "outputs": [],
      "source": [
        "import numpy as np\n",
        "\n",
        "# مصفوفتين عشوائيتين كمثال\n",
        "A = np.random.randint(0, 10, (4, 4))\n",
        "B = np.random.randint(0, 10, (4, 4))\n",
        "\n",
        "print(\"Matrix A:\\n\", A)\n",
        "print(\"Matrix B:\\n\", B)\n",
        "\n",
        "# حساب dot product\n",
        "dot_product = np.dot(A, B)\n",
        "\n",
        "# استخراج القطر\n",
        "diagonal = np.diag(dot_product)\n",
        "\n",
        "print(\"Dot Product:\\n\", dot_product)\n",
        "print(\"Diagonal of Dot Product:\", diagonal)\n"
      ]
    },
    {
      "cell_type": "markdown",
      "id": "5143f7f3",
      "metadata": {
        "id": "5143f7f3"
      },
      "source": [
        "#### 70. Consider the vector [1, 2, 3, 4, 5], how to build a new vector with 3 consecutive zeros interleaved between each value? (★★★)\n",
        "`💡hint: array[::4]`"
      ]
    },
    {
      "cell_type": "code",
      "execution_count": 20,
      "id": "9913e7b0",
      "metadata": {
        "colab": {
          "base_uri": "https://localhost:8080/"
        },
        "id": "9913e7b0",
        "outputId": "f6ad2491-ca1b-43c8-d14d-1238bbf1f8b8"
      },
      "outputs": [
        {
          "output_type": "stream",
          "name": "stdout",
          "text": [
            "[1 0 0 0 2 0 0 0 3 0 0 0 4 0 0 0 5]\n"
          ]
        }
      ],
      "source": [
        "import numpy as np\n",
        "\n",
        "# المتجه الأصلي\n",
        "vec = np.array([1, 2, 3, 4, 5])\n",
        "\n",
        "# حجم المتجه الجديد = عدد العناصر × (عدد الأصفار + 1)\n",
        "new_vec = np.zeros(len(vec) * 4 - 3, dtype=int)\n",
        "\n",
        "# وضع القيم الأصلية كل 4 خطوات\n",
        "new_vec[::4] = vec\n",
        "\n",
        "print(new_vec)\n"
      ]
    },
    {
      "cell_type": "markdown",
      "id": "f62551d8",
      "metadata": {
        "id": "f62551d8"
      },
      "source": [
        "#### 71. Consider an array of dimension (5,5,3), how to mulitply it by an array with dimensions (5,5)? (★★★)\n",
        "`💡hint: array[:, :, None]`"
      ]
    },
    {
      "cell_type": "code",
      "execution_count": 21,
      "id": "02967528",
      "metadata": {
        "colab": {
          "base_uri": "https://localhost:8080/"
        },
        "id": "02967528",
        "outputId": "5989a719-e346-4938-99b9-d1d277c30b3d"
      },
      "outputs": [
        {
          "output_type": "stream",
          "name": "stdout",
          "text": [
            "(5, 5, 3)\n",
            "[[[ 0.  0.  0.]\n",
            "  [ 1.  1.  1.]\n",
            "  [ 2.  2.  2.]\n",
            "  [ 3.  3.  3.]\n",
            "  [ 4.  4.  4.]]\n",
            "\n",
            " [[ 5.  5.  5.]\n",
            "  [ 6.  6.  6.]\n",
            "  [ 7.  7.  7.]\n",
            "  [ 8.  8.  8.]\n",
            "  [ 9.  9.  9.]]\n",
            "\n",
            " [[10. 10. 10.]\n",
            "  [11. 11. 11.]\n",
            "  [12. 12. 12.]\n",
            "  [13. 13. 13.]\n",
            "  [14. 14. 14.]]\n",
            "\n",
            " [[15. 15. 15.]\n",
            "  [16. 16. 16.]\n",
            "  [17. 17. 17.]\n",
            "  [18. 18. 18.]\n",
            "  [19. 19. 19.]]\n",
            "\n",
            " [[20. 20. 20.]\n",
            "  [21. 21. 21.]\n",
            "  [22. 22. 22.]\n",
            "  [23. 23. 23.]\n",
            "  [24. 24. 24.]]]\n"
          ]
        }
      ],
      "source": [
        "import numpy as np\n",
        "\n",
        "# مصفوفة (5,5,3)\n",
        "A = np.ones((5, 5, 3))\n",
        "\n",
        "# مصفوفة (5,5)\n",
        "B = np.arange(25).reshape(5, 5)\n",
        "\n",
        "# إعادة تشكيل B إلى (5,5,1) عشان البث (broadcasting)\n",
        "B_reshaped = B[:, :, np.newaxis]\n",
        "\n",
        "# الضرب مع البث\n",
        "C = A * B_reshaped\n",
        "\n",
        "print(C.shape)  # (5,5,3)\n",
        "print(C)\n"
      ]
    },
    {
      "cell_type": "markdown",
      "id": "6896e326",
      "metadata": {
        "id": "6896e326"
      },
      "source": [
        "#### 72. How to swap two rows of an array? (★★★)\n",
        "`💡hint: array[[]] = array[[]]`"
      ]
    },
    {
      "cell_type": "code",
      "execution_count": null,
      "id": "33488c53",
      "metadata": {
        "id": "33488c53"
      },
      "outputs": [],
      "source": [
        "import numpy as np\n",
        "\n",
        "# مصفوفة (3,3)\n",
        "arr = np.array([[1, 2, 3], [4, 5, 6], [7, 8, 9]])"
      ]
    },
    {
      "cell_type": "markdown",
      "id": "aeaf4a7b",
      "metadata": {
        "id": "aeaf4a7b"
      },
      "source": [
        "#### 73. Consider a set of 10 triplets describing 10 triangles (with shared vertices), find the set of unique line segments composing all the  triangles (★★★)\n",
        "`💡hint: repeat, np.roll, np.sort, view, np.unique`"
      ]
    },
    {
      "cell_type": "code",
      "execution_count": null,
      "id": "be837a66",
      "metadata": {
        "id": "be837a66"
      },
      "outputs": [],
      "source": []
    },
    {
      "cell_type": "markdown",
      "id": "3d11451b",
      "metadata": {
        "id": "3d11451b"
      },
      "source": [
        "#### 74. Given a sorted array C that corresponds to a bincount, how to produce an array A such that np.bincount(A) == C? (★★★)\n",
        "`💡hint: np.repeat`"
      ]
    },
    {
      "cell_type": "code",
      "execution_count": 22,
      "id": "6912341a",
      "metadata": {
        "colab": {
          "base_uri": "https://localhost:8080/"
        },
        "id": "6912341a",
        "outputId": "d4126edb-c986-4a96-e04a-191eceefbfcd"
      },
      "outputs": [
        {
          "output_type": "stream",
          "name": "stdout",
          "text": [
            "C: [0 2 3 1]\n",
            "A: [1 1 2 2 2 3]\n",
            "Check: [0 2 3 1]\n"
          ]
        }
      ],
      "source": [
        "import numpy as np\n",
        "\n",
        "# مثال على C (ناتجة من bincount)\n",
        "C = np.array([0, 2, 3, 1])\n",
        "\n",
        "\n",
        "A = np.repeat(np.arange(len(C)), C)\n",
        "\n",
        "print(\"C:\", C)\n",
        "print(\"A:\", A)\n",
        "print(\"Check:\", np.bincount(A))\n"
      ]
    },
    {
      "cell_type": "markdown",
      "id": "a0a45995",
      "metadata": {
        "id": "a0a45995"
      },
      "source": [
        "#### 75. How to compute averages using a sliding window over an array? (★★★)\n",
        "`💡hint: np.cumsum`"
      ]
    },
    {
      "cell_type": "code",
      "execution_count": null,
      "id": "d307be78",
      "metadata": {
        "id": "d307be78"
      },
      "outputs": [],
      "source": [
        "import numpy as np\n",
        "\n",
        "# بيانات المثال\n",
        "arr = np.array([1, 2, 3, 4, 5, 6, 7, 8, 9, 10])"
      ]
    },
    {
      "cell_type": "markdown",
      "id": "7808578f",
      "metadata": {
        "id": "7808578f"
      },
      "source": [
        "#### 76. Consider a one-dimensional array Z, build a two-dimensional array whose first row is (Z[0],Z[1],Z[2]) and each subsequent row is  shifted by 1 (last row should be (Z[-3],Z[-2],Z[-1]) (★★★)\n",
        "`💡hint: from numpy.lib import stride_tricks`"
      ]
    },
    {
      "cell_type": "code",
      "execution_count": null,
      "id": "539e5596",
      "metadata": {
        "id": "539e5596"
      },
      "outputs": [],
      "source": [
        "import numpy as np\n",
        "\n",
        "Z = np.arange(10)\n",
        "\n",
        "# بناء المصفوفة\n",
        "result = np.array([Z[i:i+3] for i in range(len(Z)-2)])\n",
        "\n",
        "print(result)\n"
      ]
    },
    {
      "cell_type": "markdown",
      "id": "8e83df46",
      "metadata": {
        "id": "8e83df46"
      },
      "source": [
        "#### 77. How to negate a boolean, or to change the sign of a float inplace? (★★★)\n",
        "`💡hint: np.logical_not, np.negative`"
      ]
    },
    {
      "cell_type": "code",
      "execution_count": null,
      "id": "90da18ec",
      "metadata": {
        "id": "90da18ec"
      },
      "outputs": [],
      "source": [
        "import numpy as np\n",
        "\n",
        "# بيانات المثال\n",
        "arr = np.array([True, False, True, False])"
      ]
    },
    {
      "cell_type": "markdown",
      "id": "e67ff31c",
      "metadata": {
        "id": "e67ff31c"
      },
      "source": [
        "#### 78. Consider 2 sets of points P0,P1 describing lines (2d) and a point p, how to compute distance from p to each line i (P0[i],P1[i])? (★★★)"
      ]
    },
    {
      "cell_type": "code",
      "execution_count": null,
      "id": "aaa0c5cb",
      "metadata": {
        "id": "aaa0c5cb"
      },
      "outputs": [],
      "source": []
    },
    {
      "cell_type": "markdown",
      "id": "ad8821b1",
      "metadata": {
        "id": "ad8821b1"
      },
      "source": [
        "#### 79. Consider 2 sets of points P0,P1 describing lines (2d) and a set of points P, how to compute distance from each point j (P[j]) to each line i (P0[i],P1[i])? (★★★)"
      ]
    },
    {
      "cell_type": "code",
      "execution_count": 23,
      "id": "12f9a524",
      "metadata": {
        "colab": {
          "base_uri": "https://localhost:8080/"
        },
        "id": "12f9a524",
        "outputId": "3ae968e4-9dc1-44a4-acb0-58ff0cb5e284"
      },
      "outputs": [
        {
          "output_type": "stream",
          "name": "stdout",
          "text": [
            "(5, 10)\n",
            "[[0.18444669 0.13992108 0.02782525 0.76207568 0.07360416 0.30988391\n",
            "  0.56319475 0.01483853 0.61368877 0.64360331]\n",
            " [0.07321784 0.15755888 0.62683729 0.10524042 0.70552775 0.66354306\n",
            "  0.14616845 0.67491593 0.03699543 0.40844137]\n",
            " [0.5632021  0.50990819 0.15255791 0.09095502 0.10605534 0.14212194\n",
            "  0.19987104 0.09300686 0.35073651 0.13225685]\n",
            " [0.78774665 0.77319948 0.60841711 0.1591185  0.59928448 0.22783921\n",
            "  0.3378522  0.55991211 0.41786715 0.0632289 ]\n",
            " [0.08336888 0.12301714 0.2614205  0.51250022 0.30276559 0.08825439\n",
            "  0.31109958 0.24459581 0.34972786 0.41270819]]\n"
          ]
        }
      ],
      "source": [
        "import numpy as np\n",
        "\n",
        "# مثال بيانات\n",
        "P0 = np.random.rand(5, 2)  # 5 خطوط - نقاط البداية\n",
        "P1 = np.random.rand(5, 2)  # 5 خطوط - نقاط النهاية\n",
        "P  = np.random.rand(10, 2) # 10 نقاط\n",
        "\n",
        "# المتجهات من بداية الخط إلى نهايته\n",
        "line_vec = P1 - P0  # (5, 2)\n",
        "\n",
        "# المتجهات من بداية الخط إلى النقاط\n",
        "point_vec = P[None, :, :] - P0[:, None, :]  # (5, 10, 2)\n",
        "\n",
        "# حساب cross product في 2D: (x1*y2 - y1*x2)\n",
        "cross_prod = line_vec[:, None, 0] * point_vec[:, :, 1] - \\\n",
        "             line_vec[:, None, 1] * point_vec[:, :, 0]\n",
        "\n",
        "# المسافات = القيمة المطلقة لـ cross / طول الخط\n",
        "distances = np.abs(cross_prod) / np.linalg.norm(line_vec, axis=1)[:, None]\n",
        "\n",
        "print(distances.shape)  # (5 خطوط × 10 نقاط)\n",
        "print(distances)\n"
      ]
    },
    {
      "cell_type": "markdown",
      "id": "a0c8cbf5",
      "metadata": {
        "id": "a0c8cbf5"
      },
      "source": [
        "#### 80. Consider an arbitrary array, write a function that extract a subpart with a fixed shape and centered on a given element (pad with a `fill` value when necessary) (★★★)\n",
        "`💡hint: minimum maximum`"
      ]
    },
    {
      "cell_type": "code",
      "execution_count": null,
      "id": "6e44ae96",
      "metadata": {
        "id": "6e44ae96"
      },
      "outputs": [],
      "source": [
        "import numpy as np\n",
        "\n",
        "def extract_subarray(arr, center, shape, fill_value=0):\n",
        "    \"\"\"\n",
        "    Extract subarray of given shape centered at `center` from `arr`.\n",
        "    Pads with fill_value if needed.\n",
        "\n",
        "    Parameters:\n",
        "        arr (ndarray): المصفوفة الأصلية\n",
        "        center (tuple): إحداثيات المركز (مثلاً (y, x))\n",
        "        shape (tuple): حجم الجزء المطلوب (مثلاً (3, 3))\n",
        "        fill_value: قيمة التعبئة\n",
        "\n",
        "    Returns:\n",
        "        ndarray: الجزء المطلوب\n",
        "    \"\"\"\n",
        "    arr = np.asarray(arr)\n",
        "    ndim = arr.ndim\n",
        "    half_shape = [(s // 2) for s in shape]\n",
        "\n",
        "    # حجم الـ padding\n",
        "    pad_width = [(h, s - h - 1) for h, s in zip(half_shape, shape)]\n",
        "    arr_padded = np.pad(arr,\n",
        "                        [(pw[0], pw[1]) for pw in pad_width],\n",
        "                        mode='constant',\n",
        "                        constant_values=fill_value)\n",
        "\n",
        "    # تعديل إحداثيات المركز مع الـ padding\n",
        "    adj_center = tuple(c + pw[0] for c, pw in zip(center, pad_width))\n",
        "\n",
        "    slices = tuple(slice(ac - hs, ac + hs + 1)\n",
        "                   for ac, hs in zip(adj_center, half_shape))\n",
        "\n",
        "    return arr_padded[slices]\n",
        "\n",
        "# مثال\n",
        "arr = np.arange(25).reshape(5, 5)\n",
        "center = (0, 0)\n",
        "shape = (3, 3)\n",
        "sub = extract_subarray(arr, center, shape, fill_value=-1)\n",
        "\n",
        "print(arr)\n",
        "print(sub)\n"
      ]
    },
    {
      "cell_type": "markdown",
      "id": "781fa236",
      "metadata": {
        "id": "781fa236"
      },
      "source": [
        "#### 81. Consider an array a = [1,2,3,4,5,6,7,8,9,10,11,12,13,14], how to generate an array b = [[1,2,3,4], [2,3,4,5], [3,4,5,6], ..., [11,12,13,14]]? (★★★)\n",
        "`💡hint: stride_tricks.as_strided`"
      ]
    },
    {
      "cell_type": "code",
      "execution_count": null,
      "id": "82e3d17e",
      "metadata": {
        "id": "82e3d17e"
      },
      "outputs": [],
      "source": [
        "import numpy as np\n",
        "\n",
        "# بيانات المثال\n",
        "arr = np.arange(1, 15)"
      ]
    },
    {
      "cell_type": "markdown",
      "id": "9c9bb0f3",
      "metadata": {
        "id": "9c9bb0f3"
      },
      "source": [
        "#### 82. Compute a matrix rank (★★★)\n",
        "`💡hint: np.linalg.svd`"
      ]
    },
    {
      "cell_type": "code",
      "execution_count": null,
      "id": "18f053fa",
      "metadata": {
        "id": "18f053fa"
      },
      "outputs": [],
      "source": [
        "import numpy as np\n",
        "\n",
        "# بيانات المثال\n",
        "arr = np.array([[1, 2, 3], [4, 5, 6], [7, 8, 9]])\n",
        "\n",
        "# حساب rank\n",
        "rank = np.linalg.matrix_rank(arr)"
      ]
    },
    {
      "cell_type": "markdown",
      "id": "7d8dc135",
      "metadata": {
        "id": "7d8dc135"
      },
      "source": [
        "#### 83. How to find the most frequent value in an array?\n",
        "`💡hint: np.bincount, argmax`"
      ]
    },
    {
      "cell_type": "code",
      "execution_count": null,
      "id": "81844e99",
      "metadata": {
        "id": "81844e99"
      },
      "outputs": [],
      "source": [
        "import numpy as np\n",
        "\n",
        "# بيانات المثال\n",
        "arr = np.array([1, 2, 3, 2, 4, 2, 5, 2, 6])"
      ]
    },
    {
      "cell_type": "markdown",
      "id": "aa340126",
      "metadata": {
        "id": "aa340126"
      },
      "source": [
        "#### 84. Extract all the contiguous 3x3 blocks from a random 10x10 matrix (★★★)\n",
        "`💡hint: stride_tricks.as_strided`"
      ]
    },
    {
      "cell_type": "code",
      "execution_count": null,
      "id": "f39dd2dd",
      "metadata": {
        "id": "f39dd2dd"
      },
      "outputs": [],
      "source": [
        "import numpy as np\n",
        "\n",
        "# بيانات المثال\n",
        "arr = np.random.randint(0, 10, (10, 10))"
      ]
    },
    {
      "cell_type": "markdown",
      "id": "6b6d2c84",
      "metadata": {
        "id": "6b6d2c84"
      },
      "source": [
        "#### 85. Create a 2D array subclass such that a[i,j] == a[j,i] (★★★)\n",
        "`💡hint: class method`"
      ]
    },
    {
      "cell_type": "code",
      "execution_count": null,
      "id": "1916d67d",
      "metadata": {
        "id": "1916d67d"
      },
      "outputs": [],
      "source": [
        "import numpy as np\n",
        "\n",
        "class SymmetricArray(np.ndarray):\n",
        "    def __new__(cls, input_array):\n",
        "        obj = np.asarray(input_array).view(cls)\n",
        "        return obj"
      ]
    },
    {
      "cell_type": "markdown",
      "id": "7be0fe36",
      "metadata": {
        "id": "7be0fe36"
      },
      "source": [
        "#### 86. Consider a set of p matrices wich shape (n,n) and a set of p vectors with shape (n,1). How to compute the sum of of the p matrix products at once? (result has shape (n,1)) (★★★)\n",
        "`💡hint: np.tensordot`"
      ]
    },
    {
      "cell_type": "code",
      "execution_count": null,
      "id": "1d07c08f",
      "metadata": {
        "id": "1d07c08f"
      },
      "outputs": [],
      "source": [
        "import numpy as np\n",
        "\n",
        "# مثال بيانات\n",
        "p = 3\n",
        "n = 4\n",
        "matrices = np.random.rand(p, n, n)\n",
        "vectors = np.random.rand(p, n, 1)"
      ]
    },
    {
      "cell_type": "markdown",
      "id": "a840a88f",
      "metadata": {
        "id": "a840a88f"
      },
      "source": [
        "#### 87. Consider a 16x16 array, how to get the block-sum (block size is 4x4)? (★★★)\n",
        "`💡hint: np.add.reduceat`"
      ]
    },
    {
      "cell_type": "code",
      "execution_count": null,
      "id": "7200f861",
      "metadata": {
        "id": "7200f861"
      },
      "outputs": [],
      "source": [
        "import numpy as np\n",
        "\n",
        "# بيانات المثال\n",
        "arr = np.random.randint(0, 10, (16, 16))"
      ]
    },
    {
      "cell_type": "markdown",
      "id": "c2bd7385",
      "metadata": {
        "id": "c2bd7385"
      },
      "source": [
        "#### 88. How to implement the Game of Life using numpy arrays? (★★★)"
      ]
    },
    {
      "cell_type": "code",
      "execution_count": null,
      "id": "7a5d67d2",
      "metadata": {
        "id": "7a5d67d2"
      },
      "outputs": [],
      "source": [
        "import numpy as np\n",
        "\n",
        "# مثال بيانات\n",
        "arr = np.random.randint(0, 2, (10, 10))"
      ]
    },
    {
      "cell_type": "markdown",
      "id": "4c70397b",
      "metadata": {
        "id": "4c70397b"
      },
      "source": [
        "#### 89. How to get the n largest values of an array (★★★)\n",
        "`💡hint: np.argsort | np.argpartition`"
      ]
    },
    {
      "cell_type": "code",
      "execution_count": null,
      "id": "732993b7",
      "metadata": {
        "id": "732993b7"
      },
      "outputs": [],
      "source": [
        "import numpy as np\n",
        "\n",
        "# بيانات المثال\n",
        "arr = np.array([3, 1, 4, 1, 5, 9, 2, 6, 5, 3, 5])"
      ]
    },
    {
      "cell_type": "markdown",
      "id": "15ba193c",
      "metadata": {
        "id": "15ba193c"
      },
      "source": [
        "#### 90. Given an arbitrary number of vectors, build the cartesian product (every combinations of every item) (★★★)\n",
        "`💡hint: np.indices`"
      ]
    },
    {
      "cell_type": "code",
      "execution_count": null,
      "id": "3a315a00",
      "metadata": {
        "id": "3a315a00"
      },
      "outputs": [],
      "source": [
        "import numpy as np\n",
        "\n",
        "# مثال بيانات\n",
        "vectors = [np.array([1, 2, 3]), np.array([4, 5]), np.array([6, 7])]"
      ]
    },
    {
      "cell_type": "markdown",
      "id": "ec828405",
      "metadata": {
        "id": "ec828405"
      },
      "source": [
        "#### 91. How to create a record array from a regular array? (★★★)\n",
        "`💡hint: np.core.records.fromarrays`"
      ]
    },
    {
      "cell_type": "code",
      "execution_count": null,
      "id": "608a017a",
      "metadata": {
        "id": "608a017a"
      },
      "outputs": [],
      "source": [
        "import numpy as np\n",
        "\n",
        "# بيانات المثال\n",
        "arr = np.array([(1, 'Alice', 25), (2, 'Bob', 30), (3, 'Charlie', 35)])"
      ]
    },
    {
      "cell_type": "markdown",
      "id": "d94352b6",
      "metadata": {
        "id": "d94352b6"
      },
      "source": [
        "#### 92. Consider a large vector A, compute A to the power of 3 using 3 different methods (★★★)\n",
        "`💡hint: np.power, *, np.einsum`"
      ]
    },
    {
      "cell_type": "code",
      "execution_count": null,
      "id": "759d5ce5",
      "metadata": {
        "id": "759d5ce5"
      },
      "outputs": [],
      "source": [
        "import numpy as np\n",
        "\n",
        "# بيانات المثال\n",
        "arr = np.random.rand(1000000)"
      ]
    },
    {
      "cell_type": "markdown",
      "id": "7c3a9e32",
      "metadata": {
        "id": "7c3a9e32"
      },
      "source": [
        "#### 93. Consider two arrays A and B of shape (8,3) and (2,2). How to find rows of A that contain elements of each row of B regardless of the order of the elements in B? (★★★)\n",
        "`💡hint: np.where`"
      ]
    },
    {
      "cell_type": "code",
      "execution_count": null,
      "id": "5c293501",
      "metadata": {
        "id": "5c293501"
      },
      "outputs": [],
      "source": []
    },
    {
      "cell_type": "markdown",
      "id": "da9d5eeb",
      "metadata": {
        "id": "da9d5eeb"
      },
      "source": [
        "#### 94. Considering a 10x3 matrix, extract rows with unequal values (e.g. [2,2,3]) (★★★)"
      ]
    },
    {
      "cell_type": "code",
      "execution_count": null,
      "id": "89d5fba0",
      "metadata": {
        "id": "89d5fba0"
      },
      "outputs": [],
      "source": [
        "import numpy as np\n",
        "\n",
        "# بيانات المثال\n",
        "arr = np.array([[1, 2, 3], [2, 2, 3], [4, 5, 6], [2, 2, 3], [7, 8, 9]])"
      ]
    },
    {
      "cell_type": "markdown",
      "id": "f7b65fd5",
      "metadata": {
        "id": "f7b65fd5"
      },
      "source": [
        "#### 95. Convert a vector of ints into a matrix binary representation (★★★)\n",
        "`💡hint: np.unpackbits`"
      ]
    },
    {
      "cell_type": "code",
      "execution_count": null,
      "id": "4edef8b1",
      "metadata": {
        "id": "4edef8b1"
      },
      "outputs": [],
      "source": [
        "import numpy as np\n",
        "\n",
        "# بيانات المثال\n",
        "arr = np.array([0, 1, 2, 3, 15, 16, 32, 64, 128])"
      ]
    },
    {
      "cell_type": "markdown",
      "id": "2784c996",
      "metadata": {
        "id": "2784c996"
      },
      "source": [
        "#### 96. Given a two dimensional array, how to extract unique rows? (★★★)\n",
        "`💡hint: np.ascontiguousarray | np.unique`"
      ]
    },
    {
      "cell_type": "code",
      "execution_count": null,
      "id": "1d65d01e",
      "metadata": {
        "id": "1d65d01e"
      },
      "outputs": [],
      "source": [
        "import numpy as np\n",
        "\n",
        "# بيانات المثال\n",
        "arr = np.array([[1, 2, 3], [2, 2, 3], [4, 5, 6], [2, 2, 3], [7, 8, 9]])"
      ]
    },
    {
      "cell_type": "markdown",
      "id": "71a7574c",
      "metadata": {
        "id": "71a7574c"
      },
      "source": [
        "#### 97. Considering 2 vectors A & B, write the einsum equivalent of inner, outer, sum, and mul function (★★★)\n",
        "`💡hint: np.einsum`"
      ]
    },
    {
      "cell_type": "code",
      "execution_count": null,
      "id": "43471b2e",
      "metadata": {
        "id": "43471b2e"
      },
      "outputs": [],
      "source": [
        "import numpy as np\n",
        "\n",
        "# بيانات المثال\n",
        "A = np.array([1, 2, 3])\n",
        "B = np.array([4, 5, 6])"
      ]
    },
    {
      "cell_type": "markdown",
      "id": "30f06441",
      "metadata": {
        "id": "30f06441"
      },
      "source": [
        "#### 98. Considering a path described by two vectors (X,Y), how to sample it using equidistant samples (★★★)?\n",
        "`💡hint: np.cumsum, np.interp`"
      ]
    },
    {
      "cell_type": "code",
      "execution_count": null,
      "id": "ddac593f",
      "metadata": {
        "id": "ddac593f"
      },
      "outputs": [],
      "source": [
        "import numpy as np\n",
        "\n",
        "# بيانات المثال\n",
        "X = np.array([0, 1, 2, 3, 4])\n",
        "Y = np.array([0, 1, 0, 1, 0])"
      ]
    },
    {
      "cell_type": "markdown",
      "id": "e5737276",
      "metadata": {
        "id": "e5737276"
      },
      "source": [
        "#### 99. Given an integer n and a 2D array X, select from X the rows which can be interpreted as draws from a multinomial distribution with n degrees, i.e., the rows which only contain integers and which sum to n. (★★★)\n",
        "`💡hint: np.logical_and.reduce, np.mod`"
      ]
    },
    {
      "cell_type": "code",
      "execution_count": null,
      "id": "5d0d0fa8",
      "metadata": {
        "id": "5d0d0fa8"
      },
      "outputs": [],
      "source": [
        "import numpy as np\n",
        "\n",
        "# مثال بيانات\n",
        "n = 10\n",
        "X = np.array([[3, 7], [4, 6], [1, 9], [2, 8]])"
      ]
    },
    {
      "cell_type": "markdown",
      "id": "5882e36d",
      "metadata": {
        "id": "5882e36d"
      },
      "source": [
        "#### 100. Compute bootstrapped 95% confidence intervals for the mean of a 1D array X (i.e., resample the elements of an array with replacement N times, compute the mean of each sample, and then compute percentiles over the means). (★★★)\n",
        "`💡hint: np.percentile`"
      ]
    },
    {
      "cell_type": "code",
      "execution_count": 24,
      "id": "c21a8816",
      "metadata": {
        "colab": {
          "base_uri": "https://localhost:8080/"
        },
        "id": "c21a8816",
        "outputId": "b7c86e03-0c12-41a8-cb0a-0052e5649315"
      },
      "outputs": [
        {
          "output_type": "stream",
          "name": "stdout",
          "text": [
            "95% CI: [-0.334, 0.044]\n"
          ]
        }
      ],
      "source": [
        "import numpy as np\n",
        "\n",
        "def bootstrap_ci_mean(X, N=1000, ci=95):\n",
        "    \"\"\"\n",
        "    Bootstrap confidence interval for the mean of X.\n",
        "\n",
        "    Parameters:\n",
        "        X (array-like): البيانات الأصلية\n",
        "        N (int): عدد العينات bootstrap\n",
        "        ci (float): نسبة الثقة (مثلاً 95)\n",
        "\n",
        "    Returns:\n",
        "        (low, high): حدود فترة الثقة\n",
        "    \"\"\"\n",
        "    X = np.asarray(X)\n",
        "    means = np.empty(N)\n",
        "    n = len(X)\n",
        "\n",
        "    for i in range(N):\n",
        "        sample = np.random.choice(X, size=n, replace=True)\n",
        "        means[i] = sample.mean()\n",
        "\n",
        "    alpha = (100 - ci) / 2\n",
        "    lower = np.percentile(means, alpha)\n",
        "    upper = np.percentile(means, 100 - alpha)\n",
        "    return lower, upper\n",
        "\n",
        "# مثال\n",
        "X = np.random.randn(100)  # بيانات عشوائية\n",
        "low, high = bootstrap_ci_mean(X, N=10000)\n",
        "print(f\"95% CI: [{low:.3f}, {high:.3f}]\")\n"
      ]
    }
  ],
  "metadata": {
    "hide_input": false,
    "kernelspec": {
      "display_name": "Python 3 (ipykernel)",
      "language": "python",
      "name": "python3"
    },
    "language_info": {
      "codemirror_mode": {
        "name": "ipython",
        "version": 3
      },
      "file_extension": ".py",
      "mimetype": "text/x-python",
      "name": "python",
      "nbconvert_exporter": "python",
      "pygments_lexer": "ipython3",
      "version": "3.12.3"
    },
    "toc": {
      "base_numbering": 1,
      "nav_menu": {},
      "number_sections": true,
      "sideBar": true,
      "skip_h1_title": false,
      "title_cell": "Table of Contents",
      "title_sidebar": "Contents",
      "toc_cell": false,
      "toc_position": {},
      "toc_section_display": true,
      "toc_window_display": false
    },
    "varInspector": {
      "cols": {
        "lenName": 16,
        "lenType": 16,
        "lenVar": 40
      },
      "kernels_config": {
        "python": {
          "delete_cmd_postfix": "",
          "delete_cmd_prefix": "del ",
          "library": "var_list.py",
          "varRefreshCmd": "print(var_dic_list())"
        },
        "r": {
          "delete_cmd_postfix": ") ",
          "delete_cmd_prefix": "rm(",
          "library": "var_list.r",
          "varRefreshCmd": "cat(var_dic_list()) "
        }
      },
      "types_to_exclude": [
        "module",
        "function",
        "builtin_function_or_method",
        "instance",
        "_Feature"
      ],
      "window_display": false
    },
    "colab": {
      "provenance": [],
      "include_colab_link": true
    }
  },
  "nbformat": 4,
  "nbformat_minor": 5
}