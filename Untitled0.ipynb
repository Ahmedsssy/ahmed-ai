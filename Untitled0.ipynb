{
  "nbformat": 4,
  "nbformat_minor": 0,
  "metadata": {
    "colab": {
      "provenance": [],
      "authorship_tag": "ABX9TyMGkJXEEkaiD5SUpOKjjSG2",
      "include_colab_link": true
    },
    "kernelspec": {
      "name": "python3",
      "display_name": "Python 3"
    },
    "language_info": {
      "name": "python"
    }
  },
  "cells": [
    {
      "cell_type": "markdown",
      "metadata": {
        "id": "view-in-github",
        "colab_type": "text"
      },
      "source": [
        "<a href=\"https://colab.research.google.com/github/Ahmedsssy/ahmed-ai/blob/main/Untitled0.ipynb\" target=\"_parent\"><img src=\"https://colab.research.google.com/assets/colab-badge.svg\" alt=\"Open In Colab\"/></a>"
      ]
    },
    {
      "cell_type": "code",
      "execution_count": null,
      "metadata": {
        "id": "FLicYBMDOVyg"
      },
      "outputs": [],
      "source": [
        "import numpy as np\n",
        "\n",
        "# البيانات\n",
        "ages = [18, 21, 20, 19, 22, 23, 20, 21, 22, 19]\n",
        "\n",
        "# حساب المتوسط يدويًا\n",
        "mean_manual = sum(ages) / len(ages)\n",
        "\n",
        "# حساب المتوسط باستخدام NumPy\n",
        "mean_numpy = np.mean(ages)\n",
        "\n",
        "print(\"المتوسط يدويًا:\", mean_manual)\n",
        "print(\"المتوسط باستخدام NumPy:\", mean_numpy)\n"
      ]
    },
    {
      "cell_type": "code",
      "source": [
        "import random\n",
        "\n",
        "# توليد 15 عدد عشوائي بين 10 و 50\n",
        "nums = [random.randint(10, 50) for _ in range(15)]\n",
        "\n",
        "# إيجاد الوسيط يدويًا\n",
        "nums_sorted = sorted(nums)  # ترتيب القيم\n",
        "n = len(nums_sorted)\n",
        "if n % 2 == 1:  # لو عدد العناصر فردي\n",
        "    median_manual = nums_sorted[n // 2]\n",
        "else:  # لو زوجي\n",
        "    median_manual = (nums_sorted[n // 2 - 1] + nums_sorted[n // 2]) / 2\n",
        "\n",
        "# باستخدام NumPy\n",
        "median_numpy = np.median(nums)\n",
        "\n",
        "print(\"القائمة:\", nums)\n",
        "print(\"الوسيط يدويًا:\", median_manual)\n",
        "print(\"الوسيط باستخدام NumPy:\", median_numpy)\n"
      ],
      "metadata": {
        "id": "xdR9ip5BOnJ4"
      },
      "execution_count": null,
      "outputs": []
    },
    {
      "cell_type": "code",
      "source": [
        "# يدويًا\n",
        "min_val = min(nums)\n",
        "max_val = max(nums)\n",
        "range_manual = max_val - min_val\n",
        "\n",
        "# باستخدام NumPy\n",
        "min_numpy = np.min(nums)\n",
        "max_numpy = np.max(nums)\n",
        "range_numpy = max_numpy - min_numpy\n",
        "\n",
        "print(\"أصغر قيمة (يدوي):\", min_val)\n",
        "print(\"أكبر قيمة (يدوي):\", max_val)\n",
        "print(\"المدى (يدوي):\", range_manual)\n",
        "\n",
        "print(\"أصغر قيمة (NumPy):\", min_numpy)\n",
        "print(\"أكبر قيمة (NumPy):\", max_numpy)\n",
        "print(\"المدى (NumPy):\", range_numpy)\n"
      ],
      "metadata": {
        "id": "dA1U6UkfOqY2"
      },
      "execution_count": null,
      "outputs": []
    },
    {
      "cell_type": "code",
      "source": [
        "data = [5, 7, 3, 7, 9, 10, 15, 7]\n",
        "\n",
        "# المتوسط\n",
        "mean_data = sum(data) / len(data)\n",
        "\n",
        "# التباين (Variance) يدويًا\n",
        "variance_manual = sum((x - mean_data) ** 2 for x in data) / len(data)\n",
        "\n",
        "# الانحراف المعياري (Standard Deviation)\n",
        "std_manual = variance_manual ** 0.5\n",
        "\n",
        "# باستخدام NumPy\n",
        "variance_numpy = np.var(data)\n",
        "std_numpy = np.std(data)\n",
        "\n",
        "print(\"التباين (يدوي):\", variance_manual)\n",
        "print(\"الانحراف المعياري (يدوي):\", std_manual)\n",
        "print(\"التباين (NumPy):\", variance_numpy)\n",
        "print(\"الانحراف المعياري (NumPy):\", std_numpy)\n"
      ],
      "metadata": {
        "colab": {
          "base_uri": "https://localhost:8080/",
          "height": 219
        },
        "id": "dx1CkgP5OvDx",
        "outputId": "de213776-ae1a-44a2-b437-2fef5bfbebcb"
      },
      "execution_count": 1,
      "outputs": [
        {
          "output_type": "error",
          "ename": "NameError",
          "evalue": "name 'np' is not defined",
          "traceback": [
            "\u001b[0;31m---------------------------------------------------------------------------\u001b[0m",
            "\u001b[0;31mNameError\u001b[0m                                 Traceback (most recent call last)",
            "\u001b[0;32m/tmp/ipython-input-1533587639.py\u001b[0m in \u001b[0;36m<cell line: 0>\u001b[0;34m()\u001b[0m\n\u001b[1;32m     11\u001b[0m \u001b[0;34m\u001b[0m\u001b[0m\n\u001b[1;32m     12\u001b[0m \u001b[0;31m# باستخدام NumPy\u001b[0m\u001b[0;34m\u001b[0m\u001b[0;34m\u001b[0m\u001b[0m\n\u001b[0;32m---> 13\u001b[0;31m \u001b[0mvariance_numpy\u001b[0m \u001b[0;34m=\u001b[0m \u001b[0mnp\u001b[0m\u001b[0;34m.\u001b[0m\u001b[0mvar\u001b[0m\u001b[0;34m(\u001b[0m\u001b[0mdata\u001b[0m\u001b[0;34m)\u001b[0m\u001b[0;34m\u001b[0m\u001b[0;34m\u001b[0m\u001b[0m\n\u001b[0m\u001b[1;32m     14\u001b[0m \u001b[0mstd_numpy\u001b[0m \u001b[0;34m=\u001b[0m \u001b[0mnp\u001b[0m\u001b[0;34m.\u001b[0m\u001b[0mstd\u001b[0m\u001b[0;34m(\u001b[0m\u001b[0mdata\u001b[0m\u001b[0;34m)\u001b[0m\u001b[0;34m\u001b[0m\u001b[0;34m\u001b[0m\u001b[0m\n\u001b[1;32m     15\u001b[0m \u001b[0;34m\u001b[0m\u001b[0m\n",
            "\u001b[0;31mNameError\u001b[0m: name 'np' is not defined"
          ]
        }
      ]
    },
    {
      "cell_type": "code",
      "source": [
        "# الربعيات\n",
        "q1 = np.percentile(data, 25)\n",
        "q2 = np.percentile(data, 50)  # الوسيط\n",
        "q3 = np.percentile(data, 75)\n",
        "\n",
        "# IQR = Q3 - Q1\n",
        "iqr = q3 - q1\n",
        "\n",
        "print(\"Q1:\", q1)\n",
        "print(\"Q2 (الوسيط):\", q2)\n",
        "print(\"Q3:\", q3)\n",
        "print(\"IQR:\", iqr)\n"
      ],
      "metadata": {
        "id": "UDriCrWIO2sc"
      },
      "execution_count": null,
      "outputs": []
    },
    {
      "cell_type": "code",
      "source": [
        "def z_score_normalization(lst):\n",
        "    mean_val = sum(lst) / len(lst)\n",
        "    std_val = (sum((x - mean_val) ** 2 for x in lst) / len(lst)) ** 0.5\n",
        "    return [(x - mean_val) / std_val for x in lst]\n",
        "\n",
        "numbers = [10, 12, 15, 20, 25]\n",
        "z_scores = z_score_normalization(numbers)\n",
        "\n",
        "print(\"القائمة الأصلية:\", numbers)\n",
        "print(\"Z-Scores:\", z_scores)\n"
      ],
      "metadata": {
        "id": "pAyKRKrTO5Da"
      },
      "execution_count": null,
      "outputs": []
    },
    {
      "cell_type": "code",
      "source": [
        "def z_score_normalization(lst):\n",
        "    mean_val = sum(lst) / len(lst)\n",
        "    std_val = (sum((x - mean_val) ** 2 for x in lst) / len(lst)) ** 0.5\n",
        "    return [(x - mean_val) / std_val for x in lst]\n",
        "\n",
        "numbers = [10, 12, 15, 20, 25]\n",
        "z_scores = z_score_normalization(numbers)\n",
        "\n",
        "print(\"القائمة الأصلية:\", numbers)\n",
        "print(\"Z-Scores (يدوي):\", z_scores)\n"
      ],
      "metadata": {
        "id": "2uzUkFnHPHAP"
      },
      "execution_count": null,
      "outputs": []
    },
    {
      "cell_type": "code",
      "source": [
        "import numpy as np\n",
        "import random\n",
        "\n",
        "# توليد 20 رقم عشوائي بين 1 و 100\n",
        "data = [random.randint(1, 100) for _ in range(20)]\n",
        "\n",
        "# المتوسط المتحرك يدويًا (نافذة حجمها 3)\n",
        "window_size = 3\n",
        "moving_avg_manual = [sum(data[i:i+window_size]) / window_size for i in range(len(data) - window_size + 1)]\n",
        "\n",
        "# باستخدام NumPy\n",
        "moving_avg_numpy = np.convolve(data, np.ones(window_size)/window_size, mode='valid')\n",
        "\n",
        "print(\"القائمة:\", data)\n",
        "print(\"المتوسط المتحرك يدويًا:\", moving_avg_manual)\n",
        "print(\"المتوسط المتحرك (NumPy):\", moving_avg_numpy)\n"
      ],
      "metadata": {
        "id": "8E3Drmg6PKP_"
      },
      "execution_count": null,
      "outputs": []
    },
    {
      "cell_type": "code",
      "source": [
        "# توليد 25 رقم بين 1 و 50 + قيمتين كبيرتين (300, 400)\n",
        "data_outliers = [random.randint(1, 50) for _ in range(25)] + [300, 400]\n",
        "\n",
        "# حساب Q1, Q3 و IQR\n",
        "Q1 = np.percentile(data_outliers, 25)\n",
        "Q3 = np.percentile(data_outliers, 75)\n",
        "IQR = Q3 - Q1\n",
        "\n",
        "# حدود القيم غير الطبيعية\n",
        "lower_bound = Q1 - 1.5 * IQR\n",
        "upper_bound = Q3 + 1.5 * IQR\n",
        "\n",
        "# اكتشاف القيم الشاذة\n",
        "outliers = [x for x in data_outliers if x < lower_bound or x > upper_bound]\n",
        "\n",
        "print(\"البيانات:\", data_outliers)\n",
        "print(\"Q1:\", Q1, \"Q3:\", Q3, \"IQR:\", IQR)\n",
        "print(\"الحد الأدنى:\", lower_bound, \"الحد الأعلى:\", upper_bound)\n",
        "print(\"القيم الشاذة:\", outliers)\n"
      ],
      "metadata": {
        "id": "WFSYMVkGPOPw"
      },
      "execution_count": null,
      "outputs": []
    }
  ]
}